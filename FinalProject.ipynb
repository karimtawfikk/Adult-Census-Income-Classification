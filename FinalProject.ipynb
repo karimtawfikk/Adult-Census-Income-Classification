{
 "cells": [
  {
   "cell_type": "markdown",
   "metadata": {},
   "source": [
    "## Imports"
   ]
  },
  {
   "cell_type": "code",
   "execution_count": 984,
   "metadata": {},
   "outputs": [],
   "source": [
    "import numpy as np\n",
    "import pandas as pd\n",
    "import matplotlib.pyplot as plt\n",
    "import seaborn as sns\n",
    "from sklearn.preprocessing import OrdinalEncoder,MinMaxScaler,StandardScaler,LabelEncoder\n",
    "from sklearn.model_selection import train_test_split,GridSearchCV\n",
    "from sklearn.svm import SVC \n",
    "from sklearn.linear_model import LogisticRegression\n",
    "from sklearn.tree import DecisionTreeClassifier, plot_tree\n",
    "from sklearn.neighbors import KNeighborsClassifier\n",
    "from sklearn.ensemble import AdaBoostClassifier\n",
    "from sklearn.metrics import confusion_matrix,classification_report,roc_auc_score,accuracy_score\n",
    "from imblearn.over_sampling import SMOTENC,SMOTE\n",
    "import warnings\n",
    "import PySimpleGUI as sg\n",
    "from joblib import dump, load\n",
    "warnings.filterwarnings('ignore')"
   ]
  },
  {
   "cell_type": "markdown",
   "metadata": {},
   "source": [
    "## Data Reading"
   ]
  },
  {
   "cell_type": "code",
   "execution_count": 985,
   "metadata": {},
   "outputs": [],
   "source": [
    "df=pd.read_excel('Adult Census Income_Dataset.xlsx')                                                                                                                "
   ]
  },
  {
   "cell_type": "code",
   "execution_count": 986,
   "metadata": {},
   "outputs": [],
   "source": [
    "df.to_csv('Adult Income New.csv')"
   ]
  },
  {
   "cell_type": "code",
   "execution_count": 987,
   "metadata": {},
   "outputs": [],
   "source": [
    "df=pd.read_csv('Adult Income New.csv')"
   ]
  },
  {
   "cell_type": "markdown",
   "metadata": {},
   "source": [
    "## Data Exploration"
   ]
  },
  {
   "cell_type": "code",
   "execution_count": 988,
   "metadata": {},
   "outputs": [
    {
     "data": {
      "text/html": [
       "<div>\n",
       "<style scoped>\n",
       "    .dataframe tbody tr th:only-of-type {\n",
       "        vertical-align: middle;\n",
       "    }\n",
       "\n",
       "    .dataframe tbody tr th {\n",
       "        vertical-align: top;\n",
       "    }\n",
       "\n",
       "    .dataframe thead th {\n",
       "        text-align: right;\n",
       "    }\n",
       "</style>\n",
       "<table border=\"1\" class=\"dataframe\">\n",
       "  <thead>\n",
       "    <tr style=\"text-align: right;\">\n",
       "      <th></th>\n",
       "      <th>Unnamed: 0</th>\n",
       "      <th>age</th>\n",
       "      <th>workclass</th>\n",
       "      <th>fnlwgt</th>\n",
       "      <th>education</th>\n",
       "      <th>education.num</th>\n",
       "      <th>marital.status</th>\n",
       "      <th>occupation</th>\n",
       "      <th>relationship</th>\n",
       "      <th>race</th>\n",
       "      <th>sex</th>\n",
       "      <th>capital.gain</th>\n",
       "      <th>capital.loss</th>\n",
       "      <th>hours.per.week</th>\n",
       "      <th>native.country</th>\n",
       "      <th>income</th>\n",
       "    </tr>\n",
       "  </thead>\n",
       "  <tbody>\n",
       "    <tr>\n",
       "      <th>0</th>\n",
       "      <td>0</td>\n",
       "      <td>90</td>\n",
       "      <td>?</td>\n",
       "      <td>77053</td>\n",
       "      <td>HS-grad</td>\n",
       "      <td>9</td>\n",
       "      <td>Widowed</td>\n",
       "      <td>?</td>\n",
       "      <td>Not-in-family</td>\n",
       "      <td>White</td>\n",
       "      <td>Female</td>\n",
       "      <td>0</td>\n",
       "      <td>4356</td>\n",
       "      <td>40</td>\n",
       "      <td>United-States</td>\n",
       "      <td>&lt;=50K</td>\n",
       "    </tr>\n",
       "    <tr>\n",
       "      <th>1</th>\n",
       "      <td>1</td>\n",
       "      <td>82</td>\n",
       "      <td>Private</td>\n",
       "      <td>132870</td>\n",
       "      <td>HS-grad</td>\n",
       "      <td>9</td>\n",
       "      <td>Widowed</td>\n",
       "      <td>Exec-managerial</td>\n",
       "      <td>Not-in-family</td>\n",
       "      <td>White</td>\n",
       "      <td>Female</td>\n",
       "      <td>0</td>\n",
       "      <td>4356</td>\n",
       "      <td>18</td>\n",
       "      <td>United-States</td>\n",
       "      <td>&lt;=50K</td>\n",
       "    </tr>\n",
       "    <tr>\n",
       "      <th>2</th>\n",
       "      <td>2</td>\n",
       "      <td>66</td>\n",
       "      <td>?</td>\n",
       "      <td>186061</td>\n",
       "      <td>Some-college</td>\n",
       "      <td>10</td>\n",
       "      <td>Widowed</td>\n",
       "      <td>?</td>\n",
       "      <td>Unmarried</td>\n",
       "      <td>Black</td>\n",
       "      <td>Female</td>\n",
       "      <td>0</td>\n",
       "      <td>4356</td>\n",
       "      <td>40</td>\n",
       "      <td>United-States</td>\n",
       "      <td>&lt;=50K</td>\n",
       "    </tr>\n",
       "    <tr>\n",
       "      <th>3</th>\n",
       "      <td>3</td>\n",
       "      <td>54</td>\n",
       "      <td>Private</td>\n",
       "      <td>140359</td>\n",
       "      <td>7th-8th</td>\n",
       "      <td>4</td>\n",
       "      <td>Divorced</td>\n",
       "      <td>Machine-op-inspct</td>\n",
       "      <td>Unmarried</td>\n",
       "      <td>White</td>\n",
       "      <td>Female</td>\n",
       "      <td>0</td>\n",
       "      <td>3900</td>\n",
       "      <td>40</td>\n",
       "      <td>United-States</td>\n",
       "      <td>&lt;=50K</td>\n",
       "    </tr>\n",
       "    <tr>\n",
       "      <th>4</th>\n",
       "      <td>4</td>\n",
       "      <td>41</td>\n",
       "      <td>Private</td>\n",
       "      <td>264663</td>\n",
       "      <td>Some-college</td>\n",
       "      <td>10</td>\n",
       "      <td>Separated</td>\n",
       "      <td>Prof-specialty</td>\n",
       "      <td>Own-child</td>\n",
       "      <td>White</td>\n",
       "      <td>Female</td>\n",
       "      <td>0</td>\n",
       "      <td>3900</td>\n",
       "      <td>40</td>\n",
       "      <td>United-States</td>\n",
       "      <td>&lt;=50K</td>\n",
       "    </tr>\n",
       "  </tbody>\n",
       "</table>\n",
       "</div>"
      ],
      "text/plain": [
       "   Unnamed: 0  age workclass  fnlwgt     education  education.num  \\\n",
       "0           0   90         ?   77053       HS-grad              9   \n",
       "1           1   82   Private  132870       HS-grad              9   \n",
       "2           2   66         ?  186061  Some-college             10   \n",
       "3           3   54   Private  140359       7th-8th              4   \n",
       "4           4   41   Private  264663  Some-college             10   \n",
       "\n",
       "  marital.status         occupation   relationship   race     sex  \\\n",
       "0        Widowed                  ?  Not-in-family  White  Female   \n",
       "1        Widowed    Exec-managerial  Not-in-family  White  Female   \n",
       "2        Widowed                  ?      Unmarried  Black  Female   \n",
       "3       Divorced  Machine-op-inspct      Unmarried  White  Female   \n",
       "4      Separated     Prof-specialty      Own-child  White  Female   \n",
       "\n",
       "   capital.gain  capital.loss  hours.per.week native.country income  \n",
       "0             0          4356              40  United-States  <=50K  \n",
       "1             0          4356              18  United-States  <=50K  \n",
       "2             0          4356              40  United-States  <=50K  \n",
       "3             0          3900              40  United-States  <=50K  \n",
       "4             0          3900              40  United-States  <=50K  "
      ]
     },
     "execution_count": 988,
     "metadata": {},
     "output_type": "execute_result"
    }
   ],
   "source": [
    "df.head()"
   ]
  },
  {
   "cell_type": "code",
   "execution_count": 989,
   "metadata": {},
   "outputs": [
    {
     "name": "stdout",
     "output_type": "stream",
     "text": [
      "<class 'pandas.core.frame.DataFrame'>\n",
      "RangeIndex: 32561 entries, 0 to 32560\n",
      "Data columns (total 16 columns):\n",
      " #   Column          Non-Null Count  Dtype \n",
      "---  ------          --------------  ----- \n",
      " 0   Unnamed: 0      32561 non-null  int64 \n",
      " 1   age             32561 non-null  int64 \n",
      " 2   workclass       32561 non-null  object\n",
      " 3   fnlwgt          32561 non-null  int64 \n",
      " 4   education       32561 non-null  object\n",
      " 5   education.num   32561 non-null  int64 \n",
      " 6   marital.status  32561 non-null  object\n",
      " 7   occupation      32561 non-null  object\n",
      " 8   relationship    32561 non-null  object\n",
      " 9   race            32561 non-null  object\n",
      " 10  sex             32561 non-null  object\n",
      " 11  capital.gain    32561 non-null  int64 \n",
      " 12  capital.loss    32561 non-null  int64 \n",
      " 13  hours.per.week  32561 non-null  int64 \n",
      " 14  native.country  32561 non-null  object\n",
      " 15  income          32561 non-null  object\n",
      "dtypes: int64(7), object(9)\n",
      "memory usage: 4.0+ MB\n"
     ]
    }
   ],
   "source": [
    "df.info()"
   ]
  },
  {
   "cell_type": "code",
   "execution_count": 990,
   "metadata": {},
   "outputs": [
    {
     "data": {
      "text/html": [
       "<div>\n",
       "<style scoped>\n",
       "    .dataframe tbody tr th:only-of-type {\n",
       "        vertical-align: middle;\n",
       "    }\n",
       "\n",
       "    .dataframe tbody tr th {\n",
       "        vertical-align: top;\n",
       "    }\n",
       "\n",
       "    .dataframe thead th {\n",
       "        text-align: right;\n",
       "    }\n",
       "</style>\n",
       "<table border=\"1\" class=\"dataframe\">\n",
       "  <thead>\n",
       "    <tr style=\"text-align: right;\">\n",
       "      <th></th>\n",
       "      <th>count</th>\n",
       "      <th>mean</th>\n",
       "      <th>std</th>\n",
       "      <th>min</th>\n",
       "      <th>25%</th>\n",
       "      <th>50%</th>\n",
       "      <th>75%</th>\n",
       "      <th>max</th>\n",
       "    </tr>\n",
       "  </thead>\n",
       "  <tbody>\n",
       "    <tr>\n",
       "      <th>Unnamed: 0</th>\n",
       "      <td>32561.0</td>\n",
       "      <td>16280.000000</td>\n",
       "      <td>9399.695394</td>\n",
       "      <td>0.0</td>\n",
       "      <td>8140.0</td>\n",
       "      <td>16280.0</td>\n",
       "      <td>24420.0</td>\n",
       "      <td>32560.0</td>\n",
       "    </tr>\n",
       "    <tr>\n",
       "      <th>age</th>\n",
       "      <td>32561.0</td>\n",
       "      <td>38.581647</td>\n",
       "      <td>13.640433</td>\n",
       "      <td>17.0</td>\n",
       "      <td>28.0</td>\n",
       "      <td>37.0</td>\n",
       "      <td>48.0</td>\n",
       "      <td>90.0</td>\n",
       "    </tr>\n",
       "    <tr>\n",
       "      <th>fnlwgt</th>\n",
       "      <td>32561.0</td>\n",
       "      <td>189778.366512</td>\n",
       "      <td>105549.977697</td>\n",
       "      <td>12285.0</td>\n",
       "      <td>117827.0</td>\n",
       "      <td>178356.0</td>\n",
       "      <td>237051.0</td>\n",
       "      <td>1484705.0</td>\n",
       "    </tr>\n",
       "    <tr>\n",
       "      <th>education.num</th>\n",
       "      <td>32561.0</td>\n",
       "      <td>10.080679</td>\n",
       "      <td>2.572720</td>\n",
       "      <td>1.0</td>\n",
       "      <td>9.0</td>\n",
       "      <td>10.0</td>\n",
       "      <td>12.0</td>\n",
       "      <td>16.0</td>\n",
       "    </tr>\n",
       "    <tr>\n",
       "      <th>capital.gain</th>\n",
       "      <td>32561.0</td>\n",
       "      <td>1077.648844</td>\n",
       "      <td>7385.292085</td>\n",
       "      <td>0.0</td>\n",
       "      <td>0.0</td>\n",
       "      <td>0.0</td>\n",
       "      <td>0.0</td>\n",
       "      <td>99999.0</td>\n",
       "    </tr>\n",
       "    <tr>\n",
       "      <th>capital.loss</th>\n",
       "      <td>32561.0</td>\n",
       "      <td>87.303830</td>\n",
       "      <td>402.960219</td>\n",
       "      <td>0.0</td>\n",
       "      <td>0.0</td>\n",
       "      <td>0.0</td>\n",
       "      <td>0.0</td>\n",
       "      <td>4356.0</td>\n",
       "    </tr>\n",
       "    <tr>\n",
       "      <th>hours.per.week</th>\n",
       "      <td>32561.0</td>\n",
       "      <td>40.437456</td>\n",
       "      <td>12.347429</td>\n",
       "      <td>1.0</td>\n",
       "      <td>40.0</td>\n",
       "      <td>40.0</td>\n",
       "      <td>45.0</td>\n",
       "      <td>99.0</td>\n",
       "    </tr>\n",
       "  </tbody>\n",
       "</table>\n",
       "</div>"
      ],
      "text/plain": [
       "                  count           mean            std      min       25%  \\\n",
       "Unnamed: 0      32561.0   16280.000000    9399.695394      0.0    8140.0   \n",
       "age             32561.0      38.581647      13.640433     17.0      28.0   \n",
       "fnlwgt          32561.0  189778.366512  105549.977697  12285.0  117827.0   \n",
       "education.num   32561.0      10.080679       2.572720      1.0       9.0   \n",
       "capital.gain    32561.0    1077.648844    7385.292085      0.0       0.0   \n",
       "capital.loss    32561.0      87.303830     402.960219      0.0       0.0   \n",
       "hours.per.week  32561.0      40.437456      12.347429      1.0      40.0   \n",
       "\n",
       "                     50%       75%        max  \n",
       "Unnamed: 0       16280.0   24420.0    32560.0  \n",
       "age                 37.0      48.0       90.0  \n",
       "fnlwgt          178356.0  237051.0  1484705.0  \n",
       "education.num       10.0      12.0       16.0  \n",
       "capital.gain         0.0       0.0    99999.0  \n",
       "capital.loss         0.0       0.0     4356.0  \n",
       "hours.per.week      40.0      45.0       99.0  "
      ]
     },
     "execution_count": 990,
     "metadata": {},
     "output_type": "execute_result"
    }
   ],
   "source": [
    "df.describe().transpose()\n"
   ]
  },
  {
   "cell_type": "code",
   "execution_count": 991,
   "metadata": {},
   "outputs": [
    {
     "name": "stdout",
     "output_type": "stream",
     "text": [
      "Number of rows: 32561\n"
     ]
    }
   ],
   "source": [
    "print('Number of rows:', df.shape[0])"
   ]
  },
  {
   "cell_type": "code",
   "execution_count": 992,
   "metadata": {},
   "outputs": [
    {
     "name": "stdout",
     "output_type": "stream",
     "text": [
      "Number of columns: 16\n"
     ]
    }
   ],
   "source": [
    "print('Number of columns:', df.shape[1])"
   ]
  },
  {
   "cell_type": "markdown",
   "metadata": {},
   "source": [
    "## EDA"
   ]
  },
  {
   "cell_type": "code",
   "execution_count": 993,
   "metadata": {},
   "outputs": [
    {
     "data": {
      "text/plain": [
       "<Axes: xlabel='age', ylabel='Density'>"
      ]
     },
     "execution_count": 993,
     "metadata": {},
     "output_type": "execute_result"
    },
    {
     "data": {
      "image/png": "[encoded data removed]",
      "text/plain": [
       "<Figure size 640x480 with 1 Axes>"
      ]
     },
     "metadata": {},
     "output_type": "display_data"
    }
   ],
   "source": [
    "sns.kdeplot(x='age',data=df,hue='income',fill=True)"
   ]
  },
  {
   "cell_type": "code",
   "execution_count": 994,
   "metadata": {},
   "outputs": [
    {
     "data": {
      "text/plain": [
       "<Axes: xlabel='education.num', ylabel='count'>"
      ]
     },
     "execution_count": 994,
     "metadata": {},
     "output_type": "execute_result"
    },
    {
     "data": {
      "image/png": "[encoded data removed]",
      "text/plain": [
       "<Figure size 640x480 with 1 Axes>"
      ]
     },
     "metadata": {},
     "output_type": "display_data"
    }
   ],
   "source": [
    "sns.countplot(data=df,x='education.num',hue='income')"
   ]
  },
  {
   "cell_type": "code",
   "execution_count": 995,
   "metadata": {},
   "outputs": [
    {
     "data": {
      "text/plain": [
       "<Axes: xlabel='capital.loss', ylabel='age'>"
      ]
     },
     "execution_count": 995,
     "metadata": {},
     "output_type": "execute_result"
    },
    {
     "data": {
      "image/png": "[encoded data removed]",
      "text/plain": [
       "<Figure size 640x480 with 1 Axes>"
      ]
     },
     "metadata": {},
     "output_type": "display_data"
    }
   ],
   "source": [
    "sns.scatterplot(x='capital.loss',y='age',data=df,hue='income',alpha=0.9)"
   ]
  },
  {
   "cell_type": "markdown",
   "metadata": {},
   "source": [
    "## Data Pre-Proccessing"
   ]
  },
  {
   "cell_type": "markdown",
   "metadata": {},
   "source": [
    "### Data Conversion"
   ]
  },
  {
   "cell_type": "code",
   "execution_count": 996,
   "metadata": {},
   "outputs": [],
   "source": [
    "df['income']=df['income'].map({\"<=50K\":0,\">50K\":1})"
   ]
  },
  {
   "cell_type": "code",
   "execution_count": 997,
   "metadata": {},
   "outputs": [
    {
     "data": {
      "text/plain": [
       "<Axes: xlabel='income', ylabel='count'>"
      ]
     },
     "execution_count": 997,
     "metadata": {},
     "output_type": "execute_result"
    },
    {
     "data": {
      "image/png": "[encoded data removed]",
      "text/plain": [
       "<Figure size 640x480 with 1 Axes>"
      ]
     },
     "metadata": {},
     "output_type": "display_data"
    }
   ],
   "source": [
    "sns.countplot(x='income',data=df,palette='viridis')"
   ]
  },
  {
   "cell_type": "code",
   "execution_count": 998,
   "metadata": {},
   "outputs": [],
   "source": [
    "columns=df.columns\n",
    "df[columns]=df.replace('?',np.nan)"
   ]
  },
  {
   "cell_type": "markdown",
   "metadata": {},
   "source": [
    "### Duplicates"
   ]
  },
  {
   "cell_type": "code",
   "execution_count": 999,
   "metadata": {},
   "outputs": [
    {
     "data": {
      "text/plain": [
       "0"
      ]
     },
     "execution_count": 999,
     "metadata": {},
     "output_type": "execute_result"
    }
   ],
   "source": [
    "df.duplicated().sum()"
   ]
  },
  {
   "cell_type": "markdown",
   "metadata": {},
   "source": [
    "### Missing Data"
   ]
  },
  {
   "cell_type": "code",
   "execution_count": 1000,
   "metadata": {},
   "outputs": [
    {
     "data": {
      "text/plain": [
       "Unnamed: 0        0.000000\n",
       "age               0.000000\n",
       "workclass         5.638647\n",
       "fnlwgt            0.000000\n",
       "education         0.000000\n",
       "education.num     0.000000\n",
       "marital.status    0.000000\n",
       "occupation        5.660146\n",
       "relationship      0.000000\n",
       "race              0.000000\n",
       "sex               0.000000\n",
       "capital.gain      0.000000\n",
       "capital.loss      0.000000\n",
       "hours.per.week    0.000000\n",
       "native.country    1.790486\n",
       "income            0.000000\n",
       "dtype: float64"
      ]
     },
     "execution_count": 1000,
     "metadata": {},
     "output_type": "execute_result"
    }
   ],
   "source": [
    "100*(df.isnull().sum()/len(df))"
   ]
  },
  {
   "cell_type": "code",
   "execution_count": 1001,
   "metadata": {},
   "outputs": [],
   "source": [
    "mode_nativecountry=df['native.country'].mode()[0]"
   ]
  },
  {
   "cell_type": "code",
   "execution_count": 1002,
   "metadata": {},
   "outputs": [],
   "source": [
    "df['workclass']=df['workclass'].fillna('Unemployed')\n",
    "df['occupation']=df['occupation'].fillna('None')\n",
    "df['native.country']=df['native.country'].fillna(mode_nativecountry)"
   ]
  },
  {
   "cell_type": "code",
   "execution_count": 1003,
   "metadata": {},
   "outputs": [
    {
     "data": {
      "text/plain": [
       "Unnamed: 0        0\n",
       "age               0\n",
       "workclass         0\n",
       "fnlwgt            0\n",
       "education         0\n",
       "education.num     0\n",
       "marital.status    0\n",
       "occupation        0\n",
       "relationship      0\n",
       "race              0\n",
       "sex               0\n",
       "capital.gain      0\n",
       "capital.loss      0\n",
       "hours.per.week    0\n",
       "native.country    0\n",
       "income            0\n",
       "dtype: int64"
      ]
     },
     "execution_count": 1003,
     "metadata": {},
     "output_type": "execute_result"
    }
   ],
   "source": [
    "df.isnull().sum()"
   ]
  },
  {
   "cell_type": "code",
   "execution_count": 1004,
   "metadata": {},
   "outputs": [
    {
     "data": {
      "text/html": [
       "<div>\n",
       "<style scoped>\n",
       "    .dataframe tbody tr th:only-of-type {\n",
       "        vertical-align: middle;\n",
       "    }\n",
       "\n",
       "    .dataframe tbody tr th {\n",
       "        vertical-align: top;\n",
       "    }\n",
       "\n",
       "    .dataframe thead th {\n",
       "        text-align: right;\n",
       "    }\n",
       "</style>\n",
       "<table border=\"1\" class=\"dataframe\">\n",
       "  <thead>\n",
       "    <tr style=\"text-align: right;\">\n",
       "      <th></th>\n",
       "      <th>Unnamed: 0</th>\n",
       "      <th>age</th>\n",
       "      <th>workclass</th>\n",
       "      <th>fnlwgt</th>\n",
       "      <th>education</th>\n",
       "      <th>education.num</th>\n",
       "      <th>marital.status</th>\n",
       "      <th>occupation</th>\n",
       "      <th>relationship</th>\n",
       "      <th>race</th>\n",
       "      <th>sex</th>\n",
       "      <th>capital.gain</th>\n",
       "      <th>capital.loss</th>\n",
       "      <th>hours.per.week</th>\n",
       "      <th>native.country</th>\n",
       "      <th>income</th>\n",
       "    </tr>\n",
       "  </thead>\n",
       "  <tbody>\n",
       "    <tr>\n",
       "      <th>0</th>\n",
       "      <td>0</td>\n",
       "      <td>90</td>\n",
       "      <td>Unemployed</td>\n",
       "      <td>77053</td>\n",
       "      <td>HS-grad</td>\n",
       "      <td>9</td>\n",
       "      <td>Widowed</td>\n",
       "      <td>None</td>\n",
       "      <td>Not-in-family</td>\n",
       "      <td>White</td>\n",
       "      <td>Female</td>\n",
       "      <td>0</td>\n",
       "      <td>4356</td>\n",
       "      <td>40</td>\n",
       "      <td>United-States</td>\n",
       "      <td>0</td>\n",
       "    </tr>\n",
       "    <tr>\n",
       "      <th>1</th>\n",
       "      <td>1</td>\n",
       "      <td>82</td>\n",
       "      <td>Private</td>\n",
       "      <td>132870</td>\n",
       "      <td>HS-grad</td>\n",
       "      <td>9</td>\n",
       "      <td>Widowed</td>\n",
       "      <td>Exec-managerial</td>\n",
       "      <td>Not-in-family</td>\n",
       "      <td>White</td>\n",
       "      <td>Female</td>\n",
       "      <td>0</td>\n",
       "      <td>4356</td>\n",
       "      <td>18</td>\n",
       "      <td>United-States</td>\n",
       "      <td>0</td>\n",
       "    </tr>\n",
       "    <tr>\n",
       "      <th>2</th>\n",
       "      <td>2</td>\n",
       "      <td>66</td>\n",
       "      <td>Unemployed</td>\n",
       "      <td>186061</td>\n",
       "      <td>Some-college</td>\n",
       "      <td>10</td>\n",
       "      <td>Widowed</td>\n",
       "      <td>None</td>\n",
       "      <td>Unmarried</td>\n",
       "      <td>Black</td>\n",
       "      <td>Female</td>\n",
       "      <td>0</td>\n",
       "      <td>4356</td>\n",
       "      <td>40</td>\n",
       "      <td>United-States</td>\n",
       "      <td>0</td>\n",
       "    </tr>\n",
       "    <tr>\n",
       "      <th>3</th>\n",
       "      <td>3</td>\n",
       "      <td>54</td>\n",
       "      <td>Private</td>\n",
       "      <td>140359</td>\n",
       "      <td>7th-8th</td>\n",
       "      <td>4</td>\n",
       "      <td>Divorced</td>\n",
       "      <td>Machine-op-inspct</td>\n",
       "      <td>Unmarried</td>\n",
       "      <td>White</td>\n",
       "      <td>Female</td>\n",
       "      <td>0</td>\n",
       "      <td>3900</td>\n",
       "      <td>40</td>\n",
       "      <td>United-States</td>\n",
       "      <td>0</td>\n",
       "    </tr>\n",
       "    <tr>\n",
       "      <th>4</th>\n",
       "      <td>4</td>\n",
       "      <td>41</td>\n",
       "      <td>Private</td>\n",
       "      <td>264663</td>\n",
       "      <td>Some-college</td>\n",
       "      <td>10</td>\n",
       "      <td>Separated</td>\n",
       "      <td>Prof-specialty</td>\n",
       "      <td>Own-child</td>\n",
       "      <td>White</td>\n",
       "      <td>Female</td>\n",
       "      <td>0</td>\n",
       "      <td>3900</td>\n",
       "      <td>40</td>\n",
       "      <td>United-States</td>\n",
       "      <td>0</td>\n",
       "    </tr>\n",
       "  </tbody>\n",
       "</table>\n",
       "</div>"
      ],
      "text/plain": [
       "   Unnamed: 0  age   workclass  fnlwgt     education  education.num  \\\n",
       "0           0   90  Unemployed   77053       HS-grad              9   \n",
       "1           1   82     Private  132870       HS-grad              9   \n",
       "2           2   66  Unemployed  186061  Some-college             10   \n",
       "3           3   54     Private  140359       7th-8th              4   \n",
       "4           4   41     Private  264663  Some-college             10   \n",
       "\n",
       "  marital.status         occupation   relationship   race     sex  \\\n",
       "0        Widowed               None  Not-in-family  White  Female   \n",
       "1        Widowed    Exec-managerial  Not-in-family  White  Female   \n",
       "2        Widowed               None      Unmarried  Black  Female   \n",
       "3       Divorced  Machine-op-inspct      Unmarried  White  Female   \n",
       "4      Separated     Prof-specialty      Own-child  White  Female   \n",
       "\n",
       "   capital.gain  capital.loss  hours.per.week native.country  income  \n",
       "0             0          4356              40  United-States       0  \n",
       "1             0          4356              18  United-States       0  \n",
       "2             0          4356              40  United-States       0  \n",
       "3             0          3900              40  United-States       0  \n",
       "4             0          3900              40  United-States       0  "
      ]
     },
     "execution_count": 1004,
     "metadata": {},
     "output_type": "execute_result"
    }
   ],
   "source": [
    "df.head()"
   ]
  },
  {
   "cell_type": "code",
   "execution_count": 1005,
   "metadata": {},
   "outputs": [],
   "source": [
    "df=df.drop(\"Unnamed: 0\",axis=1)"
   ]
  },
  {
   "cell_type": "code",
   "execution_count": 1006,
   "metadata": {},
   "outputs": [
    {
     "data": {
      "text/plain": [
       "Index(['age', 'workclass', 'fnlwgt', 'education', 'education.num',\n",
       "       'marital.status', 'occupation', 'relationship', 'race', 'sex',\n",
       "       'capital.gain', 'capital.loss', 'hours.per.week', 'native.country',\n",
       "       'income'],\n",
       "      dtype='object')"
      ]
     },
     "execution_count": 1006,
     "metadata": {},
     "output_type": "execute_result"
    }
   ],
   "source": [
    "df.columns"
   ]
  },
  {
   "cell_type": "code",
   "execution_count": 1007,
   "metadata": {},
   "outputs": [
    {
     "data": {
      "text/plain": [
       "income            1.000000\n",
       "education.num     0.335154\n",
       "age               0.234037\n",
       "hours.per.week    0.229689\n",
       "capital.gain      0.223329\n",
       "capital.loss      0.150526\n",
       "fnlwgt           -0.009463\n",
       "Name: income, dtype: float64"
      ]
     },
     "execution_count": 1007,
     "metadata": {},
     "output_type": "execute_result"
    }
   ],
   "source": [
    "df.corr(numeric_only=True)['income'].sort_values(ascending=False)"
   ]
  },
  {
   "cell_type": "code",
   "execution_count": 1008,
   "metadata": {},
   "outputs": [
    {
     "data": {
      "text/plain": [
       "<Axes: >"
      ]
     },
     "execution_count": 1008,
     "metadata": {},
     "output_type": "execute_result"
    },
    {
     "data": {
      "image/png": "[encoded data removed]",
      "text/plain": [
       "<Figure size 1000x600 with 2 Axes>"
      ]
     },
     "metadata": {},
     "output_type": "display_data"
    }
   ],
   "source": [
    "plt.figure(figsize=(10,6))\n",
    "sns.heatmap(df.corr(numeric_only=True),annot=True,cmap='Purples')"
   ]
  },
  {
   "cell_type": "markdown",
   "metadata": {},
   "source": [
    "### Clipping Outliers"
   ]
  },
  {
   "cell_type": "code",
   "execution_count": 1009,
   "metadata": {},
   "outputs": [
    {
     "name": "stdout",
     "output_type": "stream",
     "text": [
      "-2.0\n",
      "78.0\n"
     ]
    }
   ],
   "source": [
    "Q1 = df['age'].quantile(0.25)\n",
    "Q3 = df['age'].quantile(0.75)\n",
    "IQR = Q3 - Q1\n",
    "upper_bound = Q3 + 1.5 * IQR\n",
    "lower_bound = Q1 - 1.5 * IQR\n",
    "\n",
    "data_without_outliers = df[(df['age'] >= lower_bound) & (df['age'] <= upper_bound)]\n",
    "\n",
    "max_age = data_without_outliers['age'].max()\n",
    "minAge=data_without_outliers['age'].min()\n",
    "print(lower_bound)\n",
    "print(upper_bound)"
   ]
  },
  {
   "cell_type": "code",
   "execution_count": 1010,
   "metadata": {},
   "outputs": [
    {
     "data": {
      "text/plain": [
       "143"
      ]
     },
     "execution_count": 1010,
     "metadata": {},
     "output_type": "execute_result"
    }
   ],
   "source": [
    "a=df['age']\n",
    "outliers = a[(a < lower_bound) | (a > upper_bound)]\n",
    "len(outliers)"
   ]
  },
  {
   "cell_type": "code",
   "execution_count": 1011,
   "metadata": {},
   "outputs": [
    {
     "data": {
      "text/plain": [
       "<Axes: ylabel='age'>"
      ]
     },
     "execution_count": 1011,
     "metadata": {},
     "output_type": "execute_result"
    },
    {
     "data": {
      "image/png": "[encoded data removed]",
      "text/plain": [
       "<Figure size 640x480 with 1 Axes>"
      ]
     },
     "metadata": {},
     "output_type": "display_data"
    }
   ],
   "source": [
    "sns.boxplot(data = df, y = 'age')"
   ]
  },
  {
   "cell_type": "code",
   "execution_count": 1012,
   "metadata": {},
   "outputs": [
    {
     "data": {
      "text/plain": [
       "income\n",
       "0    118\n",
       "1     25\n",
       "Name: count, dtype: int64"
      ]
     },
     "execution_count": 1012,
     "metadata": {},
     "output_type": "execute_result"
    }
   ],
   "source": [
    "df[df['age'] > upper_bound]['income'].value_counts()"
   ]
  },
  {
   "cell_type": "code",
   "execution_count": 1013,
   "metadata": {},
   "outputs": [
    {
     "data": {
      "text/plain": [
       "Series([], Name: count, dtype: int64)"
      ]
     },
     "execution_count": 1013,
     "metadata": {},
     "output_type": "execute_result"
    }
   ],
   "source": [
    "df[df['age']< lower_bound]['income'].value_counts()"
   ]
  },
  {
   "cell_type": "code",
   "execution_count": 1014,
   "metadata": {},
   "outputs": [],
   "source": [
    "df['age'] = df[\"age\"].clip(lower=lower_bound,upper=upper_bound)"
   ]
  },
  {
   "cell_type": "markdown",
   "metadata": {},
   "source": [
    "## Feature Engineering"
   ]
  },
  {
   "cell_type": "markdown",
   "metadata": {},
   "source": [
    "#### Feature Expansion"
   ]
  },
  {
   "cell_type": "code",
   "execution_count": 1015,
   "metadata": {},
   "outputs": [],
   "source": [
    "def ageGrouping(column):\n",
    "    if column<= 30 & column>=17:\n",
    "        return \"Youth\"\n",
    "    elif column <= 50:\n",
    "        return \"Middle-aged\"\n",
    "    else:\n",
    "        return \"Senior\"      "
   ]
  },
  {
   "cell_type": "code",
   "execution_count": 1016,
   "metadata": {},
   "outputs": [],
   "source": [
    "df['ageGroup'] = df['age'].apply(ageGrouping)"
   ]
  },
  {
   "cell_type": "code",
   "execution_count": 1017,
   "metadata": {},
   "outputs": [
    {
     "data": {
      "text/html": [
       "<div>\n",
       "<style scoped>\n",
       "    .dataframe tbody tr th:only-of-type {\n",
       "        vertical-align: middle;\n",
       "    }\n",
       "\n",
       "    .dataframe tbody tr th {\n",
       "        vertical-align: top;\n",
       "    }\n",
       "\n",
       "    .dataframe thead th {\n",
       "        text-align: right;\n",
       "    }\n",
       "</style>\n",
       "<table border=\"1\" class=\"dataframe\">\n",
       "  <thead>\n",
       "    <tr style=\"text-align: right;\">\n",
       "      <th></th>\n",
       "      <th>age</th>\n",
       "      <th>workclass</th>\n",
       "      <th>fnlwgt</th>\n",
       "      <th>education</th>\n",
       "      <th>education.num</th>\n",
       "      <th>marital.status</th>\n",
       "      <th>occupation</th>\n",
       "      <th>relationship</th>\n",
       "      <th>race</th>\n",
       "      <th>sex</th>\n",
       "      <th>capital.gain</th>\n",
       "      <th>capital.loss</th>\n",
       "      <th>hours.per.week</th>\n",
       "      <th>native.country</th>\n",
       "      <th>income</th>\n",
       "      <th>ageGroup</th>\n",
       "    </tr>\n",
       "  </thead>\n",
       "  <tbody>\n",
       "    <tr>\n",
       "      <th>0</th>\n",
       "      <td>78</td>\n",
       "      <td>Unemployed</td>\n",
       "      <td>77053</td>\n",
       "      <td>HS-grad</td>\n",
       "      <td>9</td>\n",
       "      <td>Widowed</td>\n",
       "      <td>None</td>\n",
       "      <td>Not-in-family</td>\n",
       "      <td>White</td>\n",
       "      <td>Female</td>\n",
       "      <td>0</td>\n",
       "      <td>4356</td>\n",
       "      <td>40</td>\n",
       "      <td>United-States</td>\n",
       "      <td>0</td>\n",
       "      <td>Senior</td>\n",
       "    </tr>\n",
       "    <tr>\n",
       "      <th>1</th>\n",
       "      <td>78</td>\n",
       "      <td>Private</td>\n",
       "      <td>132870</td>\n",
       "      <td>HS-grad</td>\n",
       "      <td>9</td>\n",
       "      <td>Widowed</td>\n",
       "      <td>Exec-managerial</td>\n",
       "      <td>Not-in-family</td>\n",
       "      <td>White</td>\n",
       "      <td>Female</td>\n",
       "      <td>0</td>\n",
       "      <td>4356</td>\n",
       "      <td>18</td>\n",
       "      <td>United-States</td>\n",
       "      <td>0</td>\n",
       "      <td>Senior</td>\n",
       "    </tr>\n",
       "    <tr>\n",
       "      <th>2</th>\n",
       "      <td>66</td>\n",
       "      <td>Unemployed</td>\n",
       "      <td>186061</td>\n",
       "      <td>Some-college</td>\n",
       "      <td>10</td>\n",
       "      <td>Widowed</td>\n",
       "      <td>None</td>\n",
       "      <td>Unmarried</td>\n",
       "      <td>Black</td>\n",
       "      <td>Female</td>\n",
       "      <td>0</td>\n",
       "      <td>4356</td>\n",
       "      <td>40</td>\n",
       "      <td>United-States</td>\n",
       "      <td>0</td>\n",
       "      <td>Senior</td>\n",
       "    </tr>\n",
       "    <tr>\n",
       "      <th>3</th>\n",
       "      <td>54</td>\n",
       "      <td>Private</td>\n",
       "      <td>140359</td>\n",
       "      <td>7th-8th</td>\n",
       "      <td>4</td>\n",
       "      <td>Divorced</td>\n",
       "      <td>Machine-op-inspct</td>\n",
       "      <td>Unmarried</td>\n",
       "      <td>White</td>\n",
       "      <td>Female</td>\n",
       "      <td>0</td>\n",
       "      <td>3900</td>\n",
       "      <td>40</td>\n",
       "      <td>United-States</td>\n",
       "      <td>0</td>\n",
       "      <td>Senior</td>\n",
       "    </tr>\n",
       "    <tr>\n",
       "      <th>4</th>\n",
       "      <td>41</td>\n",
       "      <td>Private</td>\n",
       "      <td>264663</td>\n",
       "      <td>Some-college</td>\n",
       "      <td>10</td>\n",
       "      <td>Separated</td>\n",
       "      <td>Prof-specialty</td>\n",
       "      <td>Own-child</td>\n",
       "      <td>White</td>\n",
       "      <td>Female</td>\n",
       "      <td>0</td>\n",
       "      <td>3900</td>\n",
       "      <td>40</td>\n",
       "      <td>United-States</td>\n",
       "      <td>0</td>\n",
       "      <td>Middle-aged</td>\n",
       "    </tr>\n",
       "  </tbody>\n",
       "</table>\n",
       "</div>"
      ],
      "text/plain": [
       "   age   workclass  fnlwgt     education  education.num marital.status  \\\n",
       "0   78  Unemployed   77053       HS-grad              9        Widowed   \n",
       "1   78     Private  132870       HS-grad              9        Widowed   \n",
       "2   66  Unemployed  186061  Some-college             10        Widowed   \n",
       "3   54     Private  140359       7th-8th              4       Divorced   \n",
       "4   41     Private  264663  Some-college             10      Separated   \n",
       "\n",
       "          occupation   relationship   race     sex  capital.gain  \\\n",
       "0               None  Not-in-family  White  Female             0   \n",
       "1    Exec-managerial  Not-in-family  White  Female             0   \n",
       "2               None      Unmarried  Black  Female             0   \n",
       "3  Machine-op-inspct      Unmarried  White  Female             0   \n",
       "4     Prof-specialty      Own-child  White  Female             0   \n",
       "\n",
       "   capital.loss  hours.per.week native.country  income     ageGroup  \n",
       "0          4356              40  United-States       0       Senior  \n",
       "1          4356              18  United-States       0       Senior  \n",
       "2          4356              40  United-States       0       Senior  \n",
       "3          3900              40  United-States       0       Senior  \n",
       "4          3900              40  United-States       0  Middle-aged  "
      ]
     },
     "execution_count": 1017,
     "metadata": {},
     "output_type": "execute_result"
    }
   ],
   "source": [
    "df.head()"
   ]
  },
  {
   "cell_type": "code",
   "execution_count": 1018,
   "metadata": {},
   "outputs": [
    {
     "data": {
      "text/html": [
       "<div>\n",
       "<style scoped>\n",
       "    .dataframe tbody tr th:only-of-type {\n",
       "        vertical-align: middle;\n",
       "    }\n",
       "\n",
       "    .dataframe tbody tr th {\n",
       "        vertical-align: top;\n",
       "    }\n",
       "\n",
       "    .dataframe thead th {\n",
       "        text-align: right;\n",
       "    }\n",
       "</style>\n",
       "<table border=\"1\" class=\"dataframe\">\n",
       "  <thead>\n",
       "    <tr style=\"text-align: right;\">\n",
       "      <th></th>\n",
       "      <th>age</th>\n",
       "      <th>workclass</th>\n",
       "      <th>fnlwgt</th>\n",
       "      <th>education</th>\n",
       "      <th>education.num</th>\n",
       "      <th>marital.status</th>\n",
       "      <th>occupation</th>\n",
       "      <th>relationship</th>\n",
       "      <th>race</th>\n",
       "      <th>sex</th>\n",
       "      <th>capital.gain</th>\n",
       "      <th>capital.loss</th>\n",
       "      <th>hours.per.week</th>\n",
       "      <th>native.country</th>\n",
       "      <th>income</th>\n",
       "      <th>ageGroup</th>\n",
       "    </tr>\n",
       "  </thead>\n",
       "  <tbody>\n",
       "    <tr>\n",
       "      <th>32556</th>\n",
       "      <td>22</td>\n",
       "      <td>Private</td>\n",
       "      <td>310152</td>\n",
       "      <td>Some-college</td>\n",
       "      <td>10</td>\n",
       "      <td>Never-married</td>\n",
       "      <td>Protective-serv</td>\n",
       "      <td>Not-in-family</td>\n",
       "      <td>White</td>\n",
       "      <td>Male</td>\n",
       "      <td>0</td>\n",
       "      <td>0</td>\n",
       "      <td>40</td>\n",
       "      <td>United-States</td>\n",
       "      <td>0</td>\n",
       "      <td>Youth</td>\n",
       "    </tr>\n",
       "    <tr>\n",
       "      <th>32557</th>\n",
       "      <td>27</td>\n",
       "      <td>Private</td>\n",
       "      <td>257302</td>\n",
       "      <td>Assoc-acdm</td>\n",
       "      <td>12</td>\n",
       "      <td>Married-civ-spouse</td>\n",
       "      <td>Tech-support</td>\n",
       "      <td>Wife</td>\n",
       "      <td>White</td>\n",
       "      <td>Female</td>\n",
       "      <td>0</td>\n",
       "      <td>0</td>\n",
       "      <td>38</td>\n",
       "      <td>United-States</td>\n",
       "      <td>0</td>\n",
       "      <td>Middle-aged</td>\n",
       "    </tr>\n",
       "    <tr>\n",
       "      <th>32558</th>\n",
       "      <td>40</td>\n",
       "      <td>Private</td>\n",
       "      <td>154374</td>\n",
       "      <td>HS-grad</td>\n",
       "      <td>9</td>\n",
       "      <td>Married-civ-spouse</td>\n",
       "      <td>Machine-op-inspct</td>\n",
       "      <td>Husband</td>\n",
       "      <td>White</td>\n",
       "      <td>Male</td>\n",
       "      <td>0</td>\n",
       "      <td>0</td>\n",
       "      <td>40</td>\n",
       "      <td>United-States</td>\n",
       "      <td>1</td>\n",
       "      <td>Middle-aged</td>\n",
       "    </tr>\n",
       "    <tr>\n",
       "      <th>32559</th>\n",
       "      <td>58</td>\n",
       "      <td>Private</td>\n",
       "      <td>151910</td>\n",
       "      <td>HS-grad</td>\n",
       "      <td>9</td>\n",
       "      <td>Widowed</td>\n",
       "      <td>Adm-clerical</td>\n",
       "      <td>Unmarried</td>\n",
       "      <td>White</td>\n",
       "      <td>Female</td>\n",
       "      <td>0</td>\n",
       "      <td>0</td>\n",
       "      <td>40</td>\n",
       "      <td>United-States</td>\n",
       "      <td>0</td>\n",
       "      <td>Senior</td>\n",
       "    </tr>\n",
       "    <tr>\n",
       "      <th>32560</th>\n",
       "      <td>22</td>\n",
       "      <td>Private</td>\n",
       "      <td>201490</td>\n",
       "      <td>HS-grad</td>\n",
       "      <td>9</td>\n",
       "      <td>Never-married</td>\n",
       "      <td>Adm-clerical</td>\n",
       "      <td>Own-child</td>\n",
       "      <td>White</td>\n",
       "      <td>Male</td>\n",
       "      <td>0</td>\n",
       "      <td>0</td>\n",
       "      <td>20</td>\n",
       "      <td>United-States</td>\n",
       "      <td>0</td>\n",
       "      <td>Youth</td>\n",
       "    </tr>\n",
       "  </tbody>\n",
       "</table>\n",
       "</div>"
      ],
      "text/plain": [
       "       age workclass  fnlwgt     education  education.num      marital.status  \\\n",
       "32556   22   Private  310152  Some-college             10       Never-married   \n",
       "32557   27   Private  257302    Assoc-acdm             12  Married-civ-spouse   \n",
       "32558   40   Private  154374       HS-grad              9  Married-civ-spouse   \n",
       "32559   58   Private  151910       HS-grad              9             Widowed   \n",
       "32560   22   Private  201490       HS-grad              9       Never-married   \n",
       "\n",
       "              occupation   relationship   race     sex  capital.gain  \\\n",
       "32556    Protective-serv  Not-in-family  White    Male             0   \n",
       "32557       Tech-support           Wife  White  Female             0   \n",
       "32558  Machine-op-inspct        Husband  White    Male             0   \n",
       "32559       Adm-clerical      Unmarried  White  Female             0   \n",
       "32560       Adm-clerical      Own-child  White    Male             0   \n",
       "\n",
       "       capital.loss  hours.per.week native.country  income     ageGroup  \n",
       "32556             0              40  United-States       0        Youth  \n",
       "32557             0              38  United-States       0  Middle-aged  \n",
       "32558             0              40  United-States       1  Middle-aged  \n",
       "32559             0              40  United-States       0       Senior  \n",
       "32560             0              20  United-States       0        Youth  "
      ]
     },
     "execution_count": 1018,
     "metadata": {},
     "output_type": "execute_result"
    }
   ],
   "source": [
    "df.tail()"
   ]
  },
  {
   "cell_type": "code",
   "execution_count": 1019,
   "metadata": {},
   "outputs": [],
   "source": [
    "df['net']=df['capital.gain']-df['capital.loss']"
   ]
  },
  {
   "cell_type": "code",
   "execution_count": 1020,
   "metadata": {},
   "outputs": [],
   "source": [
    "df[\"work_hours_per_age\"] = df[\"hours.per.week\"] / df[\"age\"]  # Workload relative to age\n",
    "df[\"hours_category\"] = pd.cut(df[\"hours.per.week\"], bins=[0, 30, 40, 60, 100], labels=[\"Part-time\", \"Full-time\", \"Overtime\", \"Extreme\"])\n",
    "df[\"capital_activity\"] = np.where((df[\"capital.gain\"] > 0) | (df[\"capital.loss\"] > 0), 1, 0)  # 1 if either capital gain or loss is 1, 0 otherwise"
   ]
  },
  {
   "cell_type": "code",
   "execution_count": 1021,
   "metadata": {},
   "outputs": [
    {
     "data": {
      "text/html": [
       "<div>\n",
       "<style scoped>\n",
       "    .dataframe tbody tr th:only-of-type {\n",
       "        vertical-align: middle;\n",
       "    }\n",
       "\n",
       "    .dataframe tbody tr th {\n",
       "        vertical-align: top;\n",
       "    }\n",
       "\n",
       "    .dataframe thead th {\n",
       "        text-align: right;\n",
       "    }\n",
       "</style>\n",
       "<table border=\"1\" class=\"dataframe\">\n",
       "  <thead>\n",
       "    <tr style=\"text-align: right;\">\n",
       "      <th></th>\n",
       "      <th>age</th>\n",
       "      <th>workclass</th>\n",
       "      <th>fnlwgt</th>\n",
       "      <th>education</th>\n",
       "      <th>education.num</th>\n",
       "      <th>marital.status</th>\n",
       "      <th>occupation</th>\n",
       "      <th>relationship</th>\n",
       "      <th>race</th>\n",
       "      <th>sex</th>\n",
       "      <th>capital.gain</th>\n",
       "      <th>capital.loss</th>\n",
       "      <th>hours.per.week</th>\n",
       "      <th>native.country</th>\n",
       "      <th>income</th>\n",
       "      <th>ageGroup</th>\n",
       "      <th>net</th>\n",
       "      <th>work_hours_per_age</th>\n",
       "      <th>hours_category</th>\n",
       "      <th>capital_activity</th>\n",
       "    </tr>\n",
       "  </thead>\n",
       "  <tbody>\n",
       "    <tr>\n",
       "      <th>0</th>\n",
       "      <td>78</td>\n",
       "      <td>Unemployed</td>\n",
       "      <td>77053</td>\n",
       "      <td>HS-grad</td>\n",
       "      <td>9</td>\n",
       "      <td>Widowed</td>\n",
       "      <td>None</td>\n",
       "      <td>Not-in-family</td>\n",
       "      <td>White</td>\n",
       "      <td>Female</td>\n",
       "      <td>0</td>\n",
       "      <td>4356</td>\n",
       "      <td>40</td>\n",
       "      <td>United-States</td>\n",
       "      <td>0</td>\n",
       "      <td>Senior</td>\n",
       "      <td>-4356</td>\n",
       "      <td>0.512821</td>\n",
       "      <td>Full-time</td>\n",
       "      <td>1</td>\n",
       "    </tr>\n",
       "    <tr>\n",
       "      <th>1</th>\n",
       "      <td>78</td>\n",
       "      <td>Private</td>\n",
       "      <td>132870</td>\n",
       "      <td>HS-grad</td>\n",
       "      <td>9</td>\n",
       "      <td>Widowed</td>\n",
       "      <td>Exec-managerial</td>\n",
       "      <td>Not-in-family</td>\n",
       "      <td>White</td>\n",
       "      <td>Female</td>\n",
       "      <td>0</td>\n",
       "      <td>4356</td>\n",
       "      <td>18</td>\n",
       "      <td>United-States</td>\n",
       "      <td>0</td>\n",
       "      <td>Senior</td>\n",
       "      <td>-4356</td>\n",
       "      <td>0.230769</td>\n",
       "      <td>Part-time</td>\n",
       "      <td>1</td>\n",
       "    </tr>\n",
       "    <tr>\n",
       "      <th>2</th>\n",
       "      <td>66</td>\n",
       "      <td>Unemployed</td>\n",
       "      <td>186061</td>\n",
       "      <td>Some-college</td>\n",
       "      <td>10</td>\n",
       "      <td>Widowed</td>\n",
       "      <td>None</td>\n",
       "      <td>Unmarried</td>\n",
       "      <td>Black</td>\n",
       "      <td>Female</td>\n",
       "      <td>0</td>\n",
       "      <td>4356</td>\n",
       "      <td>40</td>\n",
       "      <td>United-States</td>\n",
       "      <td>0</td>\n",
       "      <td>Senior</td>\n",
       "      <td>-4356</td>\n",
       "      <td>0.606061</td>\n",
       "      <td>Full-time</td>\n",
       "      <td>1</td>\n",
       "    </tr>\n",
       "    <tr>\n",
       "      <th>3</th>\n",
       "      <td>54</td>\n",
       "      <td>Private</td>\n",
       "      <td>140359</td>\n",
       "      <td>7th-8th</td>\n",
       "      <td>4</td>\n",
       "      <td>Divorced</td>\n",
       "      <td>Machine-op-inspct</td>\n",
       "      <td>Unmarried</td>\n",
       "      <td>White</td>\n",
       "      <td>Female</td>\n",
       "      <td>0</td>\n",
       "      <td>3900</td>\n",
       "      <td>40</td>\n",
       "      <td>United-States</td>\n",
       "      <td>0</td>\n",
       "      <td>Senior</td>\n",
       "      <td>-3900</td>\n",
       "      <td>0.740741</td>\n",
       "      <td>Full-time</td>\n",
       "      <td>1</td>\n",
       "    </tr>\n",
       "    <tr>\n",
       "      <th>4</th>\n",
       "      <td>41</td>\n",
       "      <td>Private</td>\n",
       "      <td>264663</td>\n",
       "      <td>Some-college</td>\n",
       "      <td>10</td>\n",
       "      <td>Separated</td>\n",
       "      <td>Prof-specialty</td>\n",
       "      <td>Own-child</td>\n",
       "      <td>White</td>\n",
       "      <td>Female</td>\n",
       "      <td>0</td>\n",
       "      <td>3900</td>\n",
       "      <td>40</td>\n",
       "      <td>United-States</td>\n",
       "      <td>0</td>\n",
       "      <td>Middle-aged</td>\n",
       "      <td>-3900</td>\n",
       "      <td>0.975610</td>\n",
       "      <td>Full-time</td>\n",
       "      <td>1</td>\n",
       "    </tr>\n",
       "    <tr>\n",
       "      <th>...</th>\n",
       "      <td>...</td>\n",
       "      <td>...</td>\n",
       "      <td>...</td>\n",
       "      <td>...</td>\n",
       "      <td>...</td>\n",
       "      <td>...</td>\n",
       "      <td>...</td>\n",
       "      <td>...</td>\n",
       "      <td>...</td>\n",
       "      <td>...</td>\n",
       "      <td>...</td>\n",
       "      <td>...</td>\n",
       "      <td>...</td>\n",
       "      <td>...</td>\n",
       "      <td>...</td>\n",
       "      <td>...</td>\n",
       "      <td>...</td>\n",
       "      <td>...</td>\n",
       "      <td>...</td>\n",
       "      <td>...</td>\n",
       "    </tr>\n",
       "    <tr>\n",
       "      <th>32556</th>\n",
       "      <td>22</td>\n",
       "      <td>Private</td>\n",
       "      <td>310152</td>\n",
       "      <td>Some-college</td>\n",
       "      <td>10</td>\n",
       "      <td>Never-married</td>\n",
       "      <td>Protective-serv</td>\n",
       "      <td>Not-in-family</td>\n",
       "      <td>White</td>\n",
       "      <td>Male</td>\n",
       "      <td>0</td>\n",
       "      <td>0</td>\n",
       "      <td>40</td>\n",
       "      <td>United-States</td>\n",
       "      <td>0</td>\n",
       "      <td>Youth</td>\n",
       "      <td>0</td>\n",
       "      <td>1.818182</td>\n",
       "      <td>Full-time</td>\n",
       "      <td>0</td>\n",
       "    </tr>\n",
       "    <tr>\n",
       "      <th>32557</th>\n",
       "      <td>27</td>\n",
       "      <td>Private</td>\n",
       "      <td>257302</td>\n",
       "      <td>Assoc-acdm</td>\n",
       "      <td>12</td>\n",
       "      <td>Married-civ-spouse</td>\n",
       "      <td>Tech-support</td>\n",
       "      <td>Wife</td>\n",
       "      <td>White</td>\n",
       "      <td>Female</td>\n",
       "      <td>0</td>\n",
       "      <td>0</td>\n",
       "      <td>38</td>\n",
       "      <td>United-States</td>\n",
       "      <td>0</td>\n",
       "      <td>Middle-aged</td>\n",
       "      <td>0</td>\n",
       "      <td>1.407407</td>\n",
       "      <td>Full-time</td>\n",
       "      <td>0</td>\n",
       "    </tr>\n",
       "    <tr>\n",
       "      <th>32558</th>\n",
       "      <td>40</td>\n",
       "      <td>Private</td>\n",
       "      <td>154374</td>\n",
       "      <td>HS-grad</td>\n",
       "      <td>9</td>\n",
       "      <td>Married-civ-spouse</td>\n",
       "      <td>Machine-op-inspct</td>\n",
       "      <td>Husband</td>\n",
       "      <td>White</td>\n",
       "      <td>Male</td>\n",
       "      <td>0</td>\n",
       "      <td>0</td>\n",
       "      <td>40</td>\n",
       "      <td>United-States</td>\n",
       "      <td>1</td>\n",
       "      <td>Middle-aged</td>\n",
       "      <td>0</td>\n",
       "      <td>1.000000</td>\n",
       "      <td>Full-time</td>\n",
       "      <td>0</td>\n",
       "    </tr>\n",
       "    <tr>\n",
       "      <th>32559</th>\n",
       "      <td>58</td>\n",
       "      <td>Private</td>\n",
       "      <td>151910</td>\n",
       "      <td>HS-grad</td>\n",
       "      <td>9</td>\n",
       "      <td>Widowed</td>\n",
       "      <td>Adm-clerical</td>\n",
       "      <td>Unmarried</td>\n",
       "      <td>White</td>\n",
       "      <td>Female</td>\n",
       "      <td>0</td>\n",
       "      <td>0</td>\n",
       "      <td>40</td>\n",
       "      <td>United-States</td>\n",
       "      <td>0</td>\n",
       "      <td>Senior</td>\n",
       "      <td>0</td>\n",
       "      <td>0.689655</td>\n",
       "      <td>Full-time</td>\n",
       "      <td>0</td>\n",
       "    </tr>\n",
       "    <tr>\n",
       "      <th>32560</th>\n",
       "      <td>22</td>\n",
       "      <td>Private</td>\n",
       "      <td>201490</td>\n",
       "      <td>HS-grad</td>\n",
       "      <td>9</td>\n",
       "      <td>Never-married</td>\n",
       "      <td>Adm-clerical</td>\n",
       "      <td>Own-child</td>\n",
       "      <td>White</td>\n",
       "      <td>Male</td>\n",
       "      <td>0</td>\n",
       "      <td>0</td>\n",
       "      <td>20</td>\n",
       "      <td>United-States</td>\n",
       "      <td>0</td>\n",
       "      <td>Youth</td>\n",
       "      <td>0</td>\n",
       "      <td>0.909091</td>\n",
       "      <td>Part-time</td>\n",
       "      <td>0</td>\n",
       "    </tr>\n",
       "  </tbody>\n",
       "</table>\n",
       "<p>32561 rows × 20 columns</p>\n",
       "</div>"
      ],
      "text/plain": [
       "       age   workclass  fnlwgt     education  education.num  \\\n",
       "0       78  Unemployed   77053       HS-grad              9   \n",
       "1       78     Private  132870       HS-grad              9   \n",
       "2       66  Unemployed  186061  Some-college             10   \n",
       "3       54     Private  140359       7th-8th              4   \n",
       "4       41     Private  264663  Some-college             10   \n",
       "...    ...         ...     ...           ...            ...   \n",
       "32556   22     Private  310152  Some-college             10   \n",
       "32557   27     Private  257302    Assoc-acdm             12   \n",
       "32558   40     Private  154374       HS-grad              9   \n",
       "32559   58     Private  151910       HS-grad              9   \n",
       "32560   22     Private  201490       HS-grad              9   \n",
       "\n",
       "           marital.status         occupation   relationship   race     sex  \\\n",
       "0                 Widowed               None  Not-in-family  White  Female   \n",
       "1                 Widowed    Exec-managerial  Not-in-family  White  Female   \n",
       "2                 Widowed               None      Unmarried  Black  Female   \n",
       "3                Divorced  Machine-op-inspct      Unmarried  White  Female   \n",
       "4               Separated     Prof-specialty      Own-child  White  Female   \n",
       "...                   ...                ...            ...    ...     ...   \n",
       "32556       Never-married    Protective-serv  Not-in-family  White    Male   \n",
       "32557  Married-civ-spouse       Tech-support           Wife  White  Female   \n",
       "32558  Married-civ-spouse  Machine-op-inspct        Husband  White    Male   \n",
       "32559             Widowed       Adm-clerical      Unmarried  White  Female   \n",
       "32560       Never-married       Adm-clerical      Own-child  White    Male   \n",
       "\n",
       "       capital.gain  capital.loss  hours.per.week native.country  income  \\\n",
       "0                 0          4356              40  United-States       0   \n",
       "1                 0          4356              18  United-States       0   \n",
       "2                 0          4356              40  United-States       0   \n",
       "3                 0          3900              40  United-States       0   \n",
       "4                 0          3900              40  United-States       0   \n",
       "...             ...           ...             ...            ...     ...   \n",
       "32556             0             0              40  United-States       0   \n",
       "32557             0             0              38  United-States       0   \n",
       "32558             0             0              40  United-States       1   \n",
       "32559             0             0              40  United-States       0   \n",
       "32560             0             0              20  United-States       0   \n",
       "\n",
       "          ageGroup   net  work_hours_per_age hours_category  capital_activity  \n",
       "0           Senior -4356            0.512821      Full-time                 1  \n",
       "1           Senior -4356            0.230769      Part-time                 1  \n",
       "2           Senior -4356            0.606061      Full-time                 1  \n",
       "3           Senior -3900            0.740741      Full-time                 1  \n",
       "4      Middle-aged -3900            0.975610      Full-time                 1  \n",
       "...            ...   ...                 ...            ...               ...  \n",
       "32556        Youth     0            1.818182      Full-time                 0  \n",
       "32557  Middle-aged     0            1.407407      Full-time                 0  \n",
       "32558  Middle-aged     0            1.000000      Full-time                 0  \n",
       "32559       Senior     0            0.689655      Full-time                 0  \n",
       "32560        Youth     0            0.909091      Part-time                 0  \n",
       "\n",
       "[32561 rows x 20 columns]"
      ]
     },
     "execution_count": 1021,
     "metadata": {},
     "output_type": "execute_result"
    }
   ],
   "source": [
    "df"
   ]
  },
  {
   "cell_type": "markdown",
   "metadata": {},
   "source": [
    "### Mapping"
   ]
  },
  {
   "cell_type": "code",
   "execution_count": 1022,
   "metadata": {},
   "outputs": [
    {
     "data": {
      "text/plain": [
       "marital.status\n",
       "Married-civ-spouse       14976\n",
       "Never-married            10683\n",
       "Divorced                  4443\n",
       "Separated                 1025\n",
       "Widowed                    993\n",
       "Married-spouse-absent      418\n",
       "Married-AF-spouse           23\n",
       "Name: count, dtype: int64"
      ]
     },
     "execution_count": 1022,
     "metadata": {},
     "output_type": "execute_result"
    }
   ],
   "source": [
    "df['marital.status'].value_counts()"
   ]
  },
  {
   "cell_type": "code",
   "execution_count": 1023,
   "metadata": {},
   "outputs": [
    {
     "name": "stdout",
     "output_type": "stream",
     "text": [
      "income                         0          1\n",
      "marital.status                             \n",
      "Divorced               89.579113  10.420887\n",
      "Married-AF-spouse      56.521739  43.478261\n",
      "Married-civ-spouse     55.315171  44.684829\n",
      "Married-spouse-absent  91.866029   8.133971\n",
      "Never-married          95.403913   4.596087\n",
      "Separated              93.560976   6.439024\n",
      "Widowed                91.440081   8.559919\n"
     ]
    }
   ],
   "source": [
    "marital_income_percent = df.groupby('marital.status')['income'].value_counts(normalize=True).unstack()\n",
    "print(marital_income_percent*100)"
   ]
  },
  {
   "cell_type": "code",
   "execution_count": 1024,
   "metadata": {},
   "outputs": [],
   "source": [
    "# Define mapping for marital.status\n",
    "marital_status_mapping = {\n",
    "    'Married-civ-spouse': 'Married-spouse-present',\n",
    "    'Married-AF-spouse': 'Married-spouse-present',\n",
    "    'Married-spouse-absent':'Absent',\n",
    "    'Widowed': 'Absent',\n",
    "    'Divorced':'Divorced',\n",
    "    'Separated':'No-partner',\n",
    "    'Never-married':'No-partner',\n",
    "}\n",
    "# Apply the mapping to combine categories\n",
    "df['marital.status'] = df['marital.status'].map(marital_status_mapping)"
   ]
  },
  {
   "cell_type": "code",
   "execution_count": 1025,
   "metadata": {},
   "outputs": [
    {
     "name": "stdout",
     "output_type": "stream",
     "text": [
      "income                          0          1\n",
      "marital.status                              \n",
      "Absent                  91.566265   8.433735\n",
      "Divorced                89.579113  10.420887\n",
      "Married-spouse-present  55.317021  44.682979\n",
      "No-partner              95.242569   4.757431\n"
     ]
    }
   ],
   "source": [
    "# Recalculate income percentages for the new groups\n",
    "new_marital_income_percent = df.groupby('marital.status')['income'].value_counts(normalize=True).unstack()\n",
    "print(new_marital_income_percent*100)"
   ]
  },
  {
   "cell_type": "code",
   "execution_count": 1026,
   "metadata": {},
   "outputs": [
    {
     "data": {
      "text/plain": [
       "native.country\n",
       "United-States                 29753\n",
       "Mexico                          643\n",
       "Philippines                     198\n",
       "Germany                         137\n",
       "Canada                          121\n",
       "Puerto-Rico                     114\n",
       "El-Salvador                     106\n",
       "India                           100\n",
       "Cuba                             95\n",
       "England                          90\n",
       "Jamaica                          81\n",
       "South                            80\n",
       "China                            75\n",
       "Italy                            73\n",
       "Dominican-Republic               70\n",
       "Vietnam                          67\n",
       "Guatemala                        64\n",
       "Japan                            62\n",
       "Poland                           60\n",
       "Columbia                         59\n",
       "Taiwan                           51\n",
       "Haiti                            44\n",
       "Iran                             43\n",
       "Portugal                         37\n",
       "Nicaragua                        34\n",
       "Peru                             31\n",
       "Greece                           29\n",
       "France                           29\n",
       "Ecuador                          28\n",
       "Ireland                          24\n",
       "Hong                             20\n",
       "Trinadad&Tobago                  19\n",
       "Cambodia                         19\n",
       "Thailand                         18\n",
       "Laos                             18\n",
       "Yugoslavia                       16\n",
       "Outlying-US(Guam-USVI-etc)       14\n",
       "Hungary                          13\n",
       "Honduras                         13\n",
       "Scotland                         12\n",
       "Holand-Netherlands                1\n",
       "Name: count, dtype: int64"
      ]
     },
     "execution_count": 1026,
     "metadata": {},
     "output_type": "execute_result"
    }
   ],
   "source": [
    "df['native.country'].value_counts()"
   ]
  },
  {
   "cell_type": "code",
   "execution_count": 1027,
   "metadata": {},
   "outputs": [],
   "source": [
    "df['native.country'] = df['native.country'].apply(lambda x: 'Other' if x != 'United-States'else x)"
   ]
  },
  {
   "cell_type": "code",
   "execution_count": 1028,
   "metadata": {},
   "outputs": [
    {
     "data": {
      "text/plain": [
       "occupation\n",
       "Prof-specialty       4140\n",
       "Craft-repair         4099\n",
       "Exec-managerial      4066\n",
       "Adm-clerical         3770\n",
       "Sales                3650\n",
       "Other-service        3295\n",
       "Machine-op-inspct    2002\n",
       "None                 1843\n",
       "Transport-moving     1597\n",
       "Handlers-cleaners    1370\n",
       "Farming-fishing       994\n",
       "Tech-support          928\n",
       "Protective-serv       649\n",
       "Priv-house-serv       149\n",
       "Armed-Forces            9\n",
       "Name: count, dtype: int64"
      ]
     },
     "execution_count": 1028,
     "metadata": {},
     "output_type": "execute_result"
    }
   ],
   "source": [
    "df['occupation'].value_counts()"
   ]
  },
  {
   "cell_type": "code",
   "execution_count": 1029,
   "metadata": {},
   "outputs": [],
   "source": [
    "df['occupation'] = df['occupation'].apply(\n",
    "    lambda x: x if df['occupation'].value_counts()[x] > 1000 else 'Other'\n",
    ")"
   ]
  },
  {
   "cell_type": "code",
   "execution_count": 1030,
   "metadata": {},
   "outputs": [
    {
     "data": {
      "text/plain": [
       "education\n",
       "HS-grad         10501\n",
       "Some-college     7291\n",
       "Bachelors        5355\n",
       "Masters          1723\n",
       "Assoc-voc        1382\n",
       "11th             1175\n",
       "Assoc-acdm       1067\n",
       "10th              933\n",
       "7th-8th           646\n",
       "Prof-school       576\n",
       "9th               514\n",
       "12th              433\n",
       "Doctorate         413\n",
       "5th-6th           333\n",
       "1st-4th           168\n",
       "Preschool          51\n",
       "Name: count, dtype: int64"
      ]
     },
     "execution_count": 1030,
     "metadata": {},
     "output_type": "execute_result"
    }
   ],
   "source": [
    "df['education'].value_counts()"
   ]
  },
  {
   "cell_type": "code",
   "execution_count": 1031,
   "metadata": {},
   "outputs": [],
   "source": [
    "\n",
    "df['education'] = df['education'].apply(lambda x: 'School' if x == '11th' or x == '7th-8th' or x == '10th'  or x == '5th-6th' or\n",
    "                                         x == '9th' or x == '12th' or x == '1st-4th' or x == 'Preschool' else x)\n",
    "df['education'] = df['education'].apply(lambda x: 'Associate' if x == 'Assoc-acdm' or x == 'Assoc-voc' else x)\n",
    "df['education'] = df['education'].apply(lambda x: 'Post-masters' if x == 'Doctorate' or x == 'Prof-school' else x)\n",
    "\n",
    "education_map = {'School':1,\n",
    "             'HS-grad':2,\n",
    "             'Some-college':3,\n",
    "             'Associate':4,\n",
    "             'Bachelors':5,\n",
    "             'Masters':6,\n",
    "             'Post-masters':7}\n",
    "df['education'] = df['education'].map(education_map)\n"
   ]
  },
  {
   "cell_type": "code",
   "execution_count": 1032,
   "metadata": {},
   "outputs": [
    {
     "data": {
      "text/plain": [
       "workclass\n",
       "Private             22696\n",
       "Self-emp-not-inc     2541\n",
       "Local-gov            2093\n",
       "Unemployed           1836\n",
       "State-gov            1298\n",
       "Self-emp-inc         1116\n",
       "Federal-gov           960\n",
       "Without-pay            14\n",
       "Never-worked            7\n",
       "Name: count, dtype: int64"
      ]
     },
     "execution_count": 1032,
     "metadata": {},
     "output_type": "execute_result"
    }
   ],
   "source": [
    "df['workclass'].value_counts()"
   ]
  },
  {
   "cell_type": "code",
   "execution_count": 1033,
   "metadata": {},
   "outputs": [],
   "source": [
    "workclass_mapping = {\n",
    "    'Private': 'Private',\n",
    "    'Self-emp-not-inc': 'Self-emp-not-inc',\n",
    "    'Local-gov': 'Local-gov',\n",
    "    'Unemployed': 'Unemployed', \n",
    "    'State-gov': 'State-gov',\n",
    "    'Self-emp-inc': 'Self-emp-inc',  \n",
    "    'Federal-gov': 'Federal-gov',\n",
    "    'Without-pay': 'Not-paid',\n",
    "    'Never-worked': 'Not-paid' \n",
    "}\n",
    "\n",
    "df['workclass'] = df['workclass'].map(workclass_mapping)"
   ]
  },
  {
   "cell_type": "code",
   "execution_count": 1034,
   "metadata": {},
   "outputs": [
    {
     "data": {
      "text/plain": [
       "race\n",
       "White                 27816\n",
       "Black                  3124\n",
       "Asian-Pac-Islander     1039\n",
       "Amer-Indian-Eskimo      311\n",
       "Other                   271\n",
       "Name: count, dtype: int64"
      ]
     },
     "execution_count": 1034,
     "metadata": {},
     "output_type": "execute_result"
    }
   ],
   "source": [
    "df['race'].value_counts()"
   ]
  },
  {
   "cell_type": "code",
   "execution_count": 1035,
   "metadata": {},
   "outputs": [
    {
     "name": "stdout",
     "output_type": "stream",
     "text": [
      "income                      0          1\n",
      "race                                    \n",
      "Amer-Indian-Eskimo  88.424437  11.575563\n",
      "Asian-Pac-Islander  73.435996  26.564004\n",
      "Black               87.612036  12.387964\n",
      "Other               90.774908   9.225092\n",
      "White               74.414006  25.585994\n"
     ]
    }
   ],
   "source": [
    "race_percent = df.groupby('race')['income'].value_counts(normalize=True).unstack()\n",
    "print(race_percent*100)"
   ]
  },
  {
   "cell_type": "code",
   "execution_count": 1036,
   "metadata": {},
   "outputs": [],
   "source": [
    "race_mapping = {\n",
    "    'Other': 'Other',\n",
    "    'Amer-Indian-Eskimo': 'Black',\n",
    "    'Black': 'Black',\n",
    "    'White': 'White',\n",
    "    'Asian-Pac-Islander': 'White',\n",
    "}\n",
    "\n",
    "df['race'] = df['race'].map(race_mapping)"
   ]
  },
  {
   "cell_type": "markdown",
   "metadata": {},
   "source": [
    "### Data Encoding"
   ]
  },
  {
   "cell_type": "markdown",
   "metadata": {},
   "source": [
    "#### Ordinal Encoding"
   ]
  },
  {
   "cell_type": "code",
   "execution_count": 1037,
   "metadata": {},
   "outputs": [],
   "source": [
    "ageGroupOrder=['Youth','Middle-aged','Senior']\n",
    "hours_category_order=[\"Part-time\", \"Full-time\", \"Overtime\", \"Extreme\"]"
   ]
  },
  {
   "cell_type": "code",
   "execution_count": 1038,
   "metadata": {},
   "outputs": [
    {
     "name": "stdout",
     "output_type": "stream",
     "text": [
      "   ageGroup  hours_category\n",
      "0         2               1\n",
      "1         2               0\n",
      "2         2               1\n",
      "3         2               1\n",
      "4         1               1\n"
     ]
    }
   ],
   "source": [
    "df['ageGroup'] = df['ageGroup'].astype(str)\n",
    "df['hours_category'] = df['hours_category'].astype(str)\n",
    "\n",
    "# Initialize OrdinalEncoder with correct categories\n",
    "ordinal_encoder = OrdinalEncoder(categories=[ ageGroupOrder, hours_category_order])\n",
    "\n",
    "# Fit and transform the specified columns\n",
    "df[['ageGroup', 'hours_category']] = ordinal_encoder.fit_transform(df[[ 'ageGroup', 'hours_category']]).astype(int)\n",
    "\n",
    "# Save the encoder\n",
    "dump(ordinal_encoder, 'ordinal_encoder.joblib')\n",
    "\n",
    "print(df[[ 'ageGroup', 'hours_category']].head())"
   ]
  },
  {
   "cell_type": "code",
   "execution_count": 1039,
   "metadata": {},
   "outputs": [
    {
     "data": {
      "text/html": [
       "<div>\n",
       "<style scoped>\n",
       "    .dataframe tbody tr th:only-of-type {\n",
       "        vertical-align: middle;\n",
       "    }\n",
       "\n",
       "    .dataframe tbody tr th {\n",
       "        vertical-align: top;\n",
       "    }\n",
       "\n",
       "    .dataframe thead th {\n",
       "        text-align: right;\n",
       "    }\n",
       "</style>\n",
       "<table border=\"1\" class=\"dataframe\">\n",
       "  <thead>\n",
       "    <tr style=\"text-align: right;\">\n",
       "      <th></th>\n",
       "      <th>age</th>\n",
       "      <th>workclass</th>\n",
       "      <th>fnlwgt</th>\n",
       "      <th>education</th>\n",
       "      <th>education.num</th>\n",
       "      <th>marital.status</th>\n",
       "      <th>occupation</th>\n",
       "      <th>relationship</th>\n",
       "      <th>race</th>\n",
       "      <th>sex</th>\n",
       "      <th>capital.gain</th>\n",
       "      <th>capital.loss</th>\n",
       "      <th>hours.per.week</th>\n",
       "      <th>native.country</th>\n",
       "      <th>income</th>\n",
       "      <th>ageGroup</th>\n",
       "      <th>net</th>\n",
       "      <th>work_hours_per_age</th>\n",
       "      <th>hours_category</th>\n",
       "      <th>capital_activity</th>\n",
       "    </tr>\n",
       "  </thead>\n",
       "  <tbody>\n",
       "    <tr>\n",
       "      <th>0</th>\n",
       "      <td>78</td>\n",
       "      <td>Unemployed</td>\n",
       "      <td>77053</td>\n",
       "      <td>2</td>\n",
       "      <td>9</td>\n",
       "      <td>Absent</td>\n",
       "      <td>None</td>\n",
       "      <td>Not-in-family</td>\n",
       "      <td>White</td>\n",
       "      <td>Female</td>\n",
       "      <td>0</td>\n",
       "      <td>4356</td>\n",
       "      <td>40</td>\n",
       "      <td>United-States</td>\n",
       "      <td>0</td>\n",
       "      <td>2</td>\n",
       "      <td>-4356</td>\n",
       "      <td>0.512821</td>\n",
       "      <td>1</td>\n",
       "      <td>1</td>\n",
       "    </tr>\n",
       "    <tr>\n",
       "      <th>1</th>\n",
       "      <td>78</td>\n",
       "      <td>Private</td>\n",
       "      <td>132870</td>\n",
       "      <td>2</td>\n",
       "      <td>9</td>\n",
       "      <td>Absent</td>\n",
       "      <td>Exec-managerial</td>\n",
       "      <td>Not-in-family</td>\n",
       "      <td>White</td>\n",
       "      <td>Female</td>\n",
       "      <td>0</td>\n",
       "      <td>4356</td>\n",
       "      <td>18</td>\n",
       "      <td>United-States</td>\n",
       "      <td>0</td>\n",
       "      <td>2</td>\n",
       "      <td>-4356</td>\n",
       "      <td>0.230769</td>\n",
       "      <td>0</td>\n",
       "      <td>1</td>\n",
       "    </tr>\n",
       "    <tr>\n",
       "      <th>2</th>\n",
       "      <td>66</td>\n",
       "      <td>Unemployed</td>\n",
       "      <td>186061</td>\n",
       "      <td>3</td>\n",
       "      <td>10</td>\n",
       "      <td>Absent</td>\n",
       "      <td>None</td>\n",
       "      <td>Unmarried</td>\n",
       "      <td>Black</td>\n",
       "      <td>Female</td>\n",
       "      <td>0</td>\n",
       "      <td>4356</td>\n",
       "      <td>40</td>\n",
       "      <td>United-States</td>\n",
       "      <td>0</td>\n",
       "      <td>2</td>\n",
       "      <td>-4356</td>\n",
       "      <td>0.606061</td>\n",
       "      <td>1</td>\n",
       "      <td>1</td>\n",
       "    </tr>\n",
       "    <tr>\n",
       "      <th>3</th>\n",
       "      <td>54</td>\n",
       "      <td>Private</td>\n",
       "      <td>140359</td>\n",
       "      <td>1</td>\n",
       "      <td>4</td>\n",
       "      <td>Divorced</td>\n",
       "      <td>Machine-op-inspct</td>\n",
       "      <td>Unmarried</td>\n",
       "      <td>White</td>\n",
       "      <td>Female</td>\n",
       "      <td>0</td>\n",
       "      <td>3900</td>\n",
       "      <td>40</td>\n",
       "      <td>United-States</td>\n",
       "      <td>0</td>\n",
       "      <td>2</td>\n",
       "      <td>-3900</td>\n",
       "      <td>0.740741</td>\n",
       "      <td>1</td>\n",
       "      <td>1</td>\n",
       "    </tr>\n",
       "    <tr>\n",
       "      <th>4</th>\n",
       "      <td>41</td>\n",
       "      <td>Private</td>\n",
       "      <td>264663</td>\n",
       "      <td>3</td>\n",
       "      <td>10</td>\n",
       "      <td>No-partner</td>\n",
       "      <td>Prof-specialty</td>\n",
       "      <td>Own-child</td>\n",
       "      <td>White</td>\n",
       "      <td>Female</td>\n",
       "      <td>0</td>\n",
       "      <td>3900</td>\n",
       "      <td>40</td>\n",
       "      <td>United-States</td>\n",
       "      <td>0</td>\n",
       "      <td>1</td>\n",
       "      <td>-3900</td>\n",
       "      <td>0.975610</td>\n",
       "      <td>1</td>\n",
       "      <td>1</td>\n",
       "    </tr>\n",
       "  </tbody>\n",
       "</table>\n",
       "</div>"
      ],
      "text/plain": [
       "   age   workclass  fnlwgt  education  education.num marital.status  \\\n",
       "0   78  Unemployed   77053          2              9         Absent   \n",
       "1   78     Private  132870          2              9         Absent   \n",
       "2   66  Unemployed  186061          3             10         Absent   \n",
       "3   54     Private  140359          1              4       Divorced   \n",
       "4   41     Private  264663          3             10     No-partner   \n",
       "\n",
       "          occupation   relationship   race     sex  capital.gain  \\\n",
       "0               None  Not-in-family  White  Female             0   \n",
       "1    Exec-managerial  Not-in-family  White  Female             0   \n",
       "2               None      Unmarried  Black  Female             0   \n",
       "3  Machine-op-inspct      Unmarried  White  Female             0   \n",
       "4     Prof-specialty      Own-child  White  Female             0   \n",
       "\n",
       "   capital.loss  hours.per.week native.country  income  ageGroup   net  \\\n",
       "0          4356              40  United-States       0         2 -4356   \n",
       "1          4356              18  United-States       0         2 -4356   \n",
       "2          4356              40  United-States       0         2 -4356   \n",
       "3          3900              40  United-States       0         2 -3900   \n",
       "4          3900              40  United-States       0         1 -3900   \n",
       "\n",
       "   work_hours_per_age  hours_category  capital_activity  \n",
       "0            0.512821               1                 1  \n",
       "1            0.230769               0                 1  \n",
       "2            0.606061               1                 1  \n",
       "3            0.740741               1                 1  \n",
       "4            0.975610               1                 1  "
      ]
     },
     "execution_count": 1039,
     "metadata": {},
     "output_type": "execute_result"
    }
   ],
   "source": [
    "df.head()"
   ]
  },
  {
   "cell_type": "markdown",
   "metadata": {},
   "source": [
    "#### OneHot Encoding"
   ]
  },
  {
   "cell_type": "code",
   "execution_count": 1040,
   "metadata": {},
   "outputs": [
    {
     "data": {
      "text/plain": [
       "['feature_order.joblib']"
      ]
     },
     "execution_count": 1040,
     "metadata": {},
     "output_type": "execute_result"
    }
   ],
   "source": [
    "OneHotColumns=['workclass','marital.status','occupation','relationship','race','sex','native.country']\n",
    "\n",
    "df_encoded = pd.get_dummies(df[OneHotColumns], drop_first=True).astype(int)\n",
    "df_remaining = df.drop(columns=OneHotColumns)\n",
    "df = pd.concat([df_remaining, df_encoded], axis=1)\n",
    "\n",
    "feature_order = df.columns.tolist()\n",
    "feature_order.remove('income')\n",
    "dump(feature_order, 'feature_order.joblib')"
   ]
  },
  {
   "cell_type": "code",
   "execution_count": 1041,
   "metadata": {},
   "outputs": [
    {
     "data": {
      "text/plain": [
       "41"
      ]
     },
     "execution_count": 1041,
     "metadata": {},
     "output_type": "execute_result"
    }
   ],
   "source": [
    "len(feature_order)   "
   ]
  },
  {
   "cell_type": "code",
   "execution_count": 1042,
   "metadata": {},
   "outputs": [],
   "source": [
    "file_path = r\"my_dataframe.csv\"\n",
    "\n",
    "df.to_csv(file_path, index=False, encoding='utf-8')"
   ]
  },
  {
   "cell_type": "code",
   "execution_count": 1043,
   "metadata": {},
   "outputs": [
    {
     "data": {
      "text/plain": [
       "income                                   1.000000\n",
       "marital.status_Married-spouse-present    0.445289\n",
       "education                                0.357136\n",
       "education.num                            0.335154\n",
       "capital_activity                         0.305720\n",
       "hours_category                           0.256174\n",
       "age                                      0.235865\n",
       "hours.per.week                           0.229689\n",
       "capital.gain                             0.223329\n",
       "sex_Male                                 0.215980\n",
       "occupation_Exec-managerial               0.214861\n",
       "net                                      0.214428\n",
       "occupation_Prof-specialty                0.185866\n",
       "ageGroup                                 0.171874\n",
       "capital.loss                             0.150526\n",
       "workclass_Self-emp-inc                   0.139467\n",
       "relationship_Wife                        0.123264\n",
       "race_White                               0.100517\n",
       "native.country_United-States             0.038942\n",
       "workclass_Local-gov                      0.033091\n",
       "workclass_Self-emp-not-inc               0.030019\n",
       "occupation_Sales                         0.023688\n",
       "workclass_State-gov                      0.014843\n",
       "fnlwgt                                  -0.009463\n",
       "occupation_Other                        -0.011967\n",
       "occupation_Craft-repair                 -0.012576\n",
       "workclass_Not-paid                      -0.014307\n",
       "occupation_Transport-moving             -0.021476\n",
       "race_Other                              -0.031830\n",
       "occupation_Machine-op-inspct            -0.069401\n",
       "workclass_Unemployed                    -0.078198\n",
       "workclass_Private                       -0.078528\n",
       "occupation_None                         -0.078583\n",
       "work_hours_per_age                      -0.081403\n",
       "relationship_Other-relative             -0.083716\n",
       "occupation_Handlers-cleaners            -0.087265\n",
       "marital.status_Divorced                 -0.126995\n",
       "relationship_Unmarried                  -0.142857\n",
       "occupation_Other-service                -0.156348\n",
       "relationship_Not-in-family              -0.188497\n",
       "relationship_Own-child                  -0.228532\n",
       "marital.status_No-partner               -0.338635\n",
       "Name: income, dtype: float64"
      ]
     },
     "execution_count": 1043,
     "metadata": {},
     "output_type": "execute_result"
    }
   ],
   "source": [
    "df.corr()['income'].sort_values(ascending=False)"
   ]
  },
  {
   "cell_type": "code",
   "execution_count": 1044,
   "metadata": {},
   "outputs": [
    {
     "data": {
      "text/html": [
       "<div>\n",
       "<style scoped>\n",
       "    .dataframe tbody tr th:only-of-type {\n",
       "        vertical-align: middle;\n",
       "    }\n",
       "\n",
       "    .dataframe tbody tr th {\n",
       "        vertical-align: top;\n",
       "    }\n",
       "\n",
       "    .dataframe thead th {\n",
       "        text-align: right;\n",
       "    }\n",
       "</style>\n",
       "<table border=\"1\" class=\"dataframe\">\n",
       "  <thead>\n",
       "    <tr style=\"text-align: right;\">\n",
       "      <th></th>\n",
       "      <th>age</th>\n",
       "      <th>fnlwgt</th>\n",
       "      <th>education</th>\n",
       "      <th>education.num</th>\n",
       "      <th>capital.gain</th>\n",
       "      <th>capital.loss</th>\n",
       "      <th>hours.per.week</th>\n",
       "      <th>income</th>\n",
       "      <th>ageGroup</th>\n",
       "      <th>net</th>\n",
       "      <th>...</th>\n",
       "      <th>occupation_Transport-moving</th>\n",
       "      <th>relationship_Not-in-family</th>\n",
       "      <th>relationship_Other-relative</th>\n",
       "      <th>relationship_Own-child</th>\n",
       "      <th>relationship_Unmarried</th>\n",
       "      <th>relationship_Wife</th>\n",
       "      <th>race_Other</th>\n",
       "      <th>race_White</th>\n",
       "      <th>sex_Male</th>\n",
       "      <th>native.country_United-States</th>\n",
       "    </tr>\n",
       "  </thead>\n",
       "  <tbody>\n",
       "  </tbody>\n",
       "</table>\n",
       "<p>0 rows × 42 columns</p>\n",
       "</div>"
      ],
      "text/plain": [
       "Empty DataFrame\n",
       "Columns: [age, fnlwgt, education, education.num, capital.gain, capital.loss, hours.per.week, income, ageGroup, net, work_hours_per_age, hours_category, capital_activity, workclass_Local-gov, workclass_Not-paid, workclass_Private, workclass_Self-emp-inc, workclass_Self-emp-not-inc, workclass_State-gov, workclass_Unemployed, marital.status_Divorced, marital.status_Married-spouse-present, marital.status_No-partner, occupation_Craft-repair, occupation_Exec-managerial, occupation_Handlers-cleaners, occupation_Machine-op-inspct, occupation_None, occupation_Other, occupation_Other-service, occupation_Prof-specialty, occupation_Sales, occupation_Transport-moving, relationship_Not-in-family, relationship_Other-relative, relationship_Own-child, relationship_Unmarried, relationship_Wife, race_Other, race_White, sex_Male, native.country_United-States]\n",
       "Index: []\n",
       "\n",
       "[0 rows x 42 columns]"
      ]
     },
     "execution_count": 1044,
     "metadata": {},
     "output_type": "execute_result"
    }
   ],
   "source": [
    "df[df[\"income\"].isnull()]"
   ]
  },
  {
   "cell_type": "markdown",
   "metadata": {},
   "source": [
    "## Machine Learning"
   ]
  },
  {
   "cell_type": "markdown",
   "metadata": {},
   "source": [
    "### Data Splitting"
   ]
  },
  {
   "cell_type": "code",
   "execution_count": 1045,
   "metadata": {},
   "outputs": [],
   "source": [
    "X = df.drop(columns=['income'])\n",
    "y = df['income']\n",
    "X_train, X_test, y_train, y_test = train_test_split(X, y, test_size=0.3, random_state=42)"
   ]
  },
  {
   "cell_type": "markdown",
   "metadata": {},
   "source": [
    "### Data Scaling"
   ]
  },
  {
   "cell_type": "code",
   "execution_count": 1046,
   "metadata": {},
   "outputs": [],
   "source": [
    "scaler=StandardScaler()\n",
    "\n",
    "X_train=scaler.fit_transform(X_train)\n",
    "X_test=scaler.transform(X_test)           "
   ]
  },
  {
   "cell_type": "markdown",
   "metadata": {},
   "source": [
    "### Checking outliers"
   ]
  },
  {
   "cell_type": "code",
   "execution_count": 1047,
   "metadata": {},
   "outputs": [
    {
     "name": "stdout",
     "output_type": "stream",
     "text": [
      "-0.8173578189943393 0.4161995480827274\n",
      "Outliers: [ 1.43968989  0.96194408  1.61286334 -0.97776914  0.66228123  1.07806479\n",
      "  2.62995014  0.70366585]\n",
      "8\n",
      "0.02456926998556555\n"
     ]
    },
    {
     "data": {
      "text/plain": [
       "<Axes: >"
      ]
     },
     "execution_count": 1047,
     "metadata": {},
     "output_type": "execute_result"
    },
    {
     "data": {
      "image/png": "[encoded data removed]",
      "text/plain": [
       "<Figure size 640x480 with 1 Axes>"
      ]
     },
     "metadata": {},
     "output_type": "display_data"
    }
   ],
   "source": [
    "a = np.array(X_train[0])\n",
    "Q1 = np.percentile(a, 25)\n",
    "Q3 = np.percentile(a, 75)\n",
    "IQR = Q3 - Q1\n",
    "\n",
    "# Define the outlier range\n",
    "lower_bound = Q1 - 1.5 * IQR\n",
    "upper_bound = Q3 + 1.5 * IQR\n",
    "print(lower_bound, upper_bound)\n",
    "# Find the outliers\n",
    "outliers = a[(a < lower_bound) | (a > upper_bound)]\n",
    "print(\"Outliers:\", outliers)\n",
    "print(len(outliers))\n",
    "print(len(outliers)/df.shape[0] *100 )\n",
    "\n",
    "sns.boxplot(a)"
   ]
  },
  {
   "cell_type": "markdown",
   "metadata": {},
   "source": [
    "###  Handling Imbalance"
   ]
  },
  {
   "cell_type": "code",
   "execution_count": 1048,
   "metadata": {},
   "outputs": [
    {
     "data": {
      "text/plain": [
       "22792"
      ]
     },
     "execution_count": 1048,
     "metadata": {},
     "output_type": "execute_result"
    }
   ],
   "source": [
    "len(X_train)"
   ]
  },
  {
   "cell_type": "code",
   "execution_count": 1049,
   "metadata": {},
   "outputs": [
    {
     "data": {
      "text/plain": [
       "income\n",
       "0    17291\n",
       "1     5501\n",
       "Name: count, dtype: int64"
      ]
     },
     "execution_count": 1049,
     "metadata": {},
     "output_type": "execute_result"
    }
   ],
   "source": [
    "y_train.value_counts()"
   ]
  },
  {
   "cell_type": "code",
   "execution_count": 1050,
   "metadata": {},
   "outputs": [],
   "source": [
    "smote_nc = SMOTE(random_state=42, k_neighbors=3, sampling_strategy=0.5)\n",
    "X_train_res, y_train_res = smote_nc.fit_resample(X_train, y_train)\n",
    "\n",
    "resampled_data = pd.DataFrame(X_train_res, columns=X.columns)\n",
    "resampled_data['income'] = y_train_res\n",
    "resampled_data.to_csv(\"adult_income_resampled.csv\",index=False)"
   ]
  },
  {
   "cell_type": "code",
   "execution_count": 1051,
   "metadata": {},
   "outputs": [
    {
     "data": {
      "text/plain": [
       "25936"
      ]
     },
     "execution_count": 1051,
     "metadata": {},
     "output_type": "execute_result"
    }
   ],
   "source": [
    "len(X_train_res)"
   ]
  },
  {
   "cell_type": "code",
   "execution_count": 1052,
   "metadata": {},
   "outputs": [
    {
     "data": {
      "text/plain": [
       "income\n",
       "0    17291\n",
       "1     8645\n",
       "Name: count, dtype: int64"
      ]
     },
     "execution_count": 1052,
     "metadata": {},
     "output_type": "execute_result"
    }
   ],
   "source": [
    "y_train_res.value_counts()"
   ]
  },
  {
   "cell_type": "markdown",
   "metadata": {},
   "source": [
    "## Models"
   ]
  },
  {
   "cell_type": "markdown",
   "metadata": {},
   "source": [
    "### Logistic Regression"
   ]
  },
  {
   "cell_type": "code",
   "execution_count": null,
   "metadata": {},
   "outputs": [
    {
     "name": "stdout",
     "output_type": "stream",
     "text": [
      "Train Accuracy (Logisitc): 0.8367134484885873\n",
      "Test Accuracy (Logistic): 0.8485003582761798\n",
      "\n",
      "Confusion Matrix (Logistic):\n",
      " [[6654  775]\n",
      " [ 705 1635]]\n",
      "\n",
      "Classification Report (Logistic):\n",
      "\n",
      "               precision    recall  f1-score   support\n",
      "\n",
      "           0       0.90      0.90      0.90      7429\n",
      "           1       0.68      0.70      0.69      2340\n",
      "\n",
      "    accuracy                           0.85      9769\n",
      "   macro avg       0.79      0.80      0.79      9769\n",
      "weighted avg       0.85      0.85      0.85      9769\n",
      "\n",
      "\n",
      "ROC-AUC Score (Logistic): 0.7971985220773752\n"
     ]
    },
    {
     "data": {
      "text/plain": [
       "['logistic_model.joblib']"
      ]
     },
     "execution_count": 1053,
     "metadata": {},
     "output_type": "execute_result"
    }
   ],
   "source": [
    "param_grid = {\n",
    "    'C':np.logspace(-20,0,20), #Regularization strength\n",
    "    'solver': ['liblinear', 'lbfgs', 'saga', 'newton-cg'], # Solvers\n",
    "    'penalty':['l2','l1']\n",
    "}\n",
    "log_model = GridSearchCV(estimator=LogisticRegression(max_iter=10000), param_grid=param_grid, cv=5, scoring='accuracy', n_jobs=-1)\n",
    "log_model.fit(X_train_res,y_train_res)\n",
    "\n",
    "\n",
    "#best param:1,saga,l2\n",
    "\n",
    "#log_model=LogisticRegression(C=1.0,solver='saga',penalty='l2')\n",
    "#log_model.fit(X_train_res,y_train_res)\n",
    "\n",
    "y_pred_test=log_model.predict(X_test)\n",
    "y_pred_train=log_model.predict(X_train_res)\n",
    "\n",
    "print(\"Train Accuracy (Logisitc):\", accuracy_score(y_train_res, y_pred_train))\n",
    "print(\"Test Accuracy (Logistic):\", accuracy_score(y_test, y_pred_test))\n",
    "\n",
    "# Confusion Matrix, Classification Report, and ROC-AUC Score\n",
    "confusion_log = confusion_matrix(y_test, y_pred_test )\n",
    "report_log = classification_report(y_test, y_pred_test)\n",
    "roc_score_log = roc_auc_score(y_test, y_pred_test)\n",
    "\n",
    "print(\"\\nConfusion Matrix (Logistic):\\n\", confusion_log)\n",
    "print(\"\\nClassification Report (Logistic):\\n\\n\", report_log)\n",
    "print(\"\\nROC-AUC Score (Logistic):\", roc_score_log)\n",
    "\n",
    "dump(log_model,\"logistic_model.joblib\")"
   ]
  },
  {
   "cell_type": "code",
   "execution_count": 1054,
   "metadata": {},
   "outputs": [
    {
     "data": {
      "text/plain": [
       "{'C': 1.0, 'penalty': 'l2', 'solver': 'saga'}"
      ]
     },
     "execution_count": 1054,
     "metadata": {},
     "output_type": "execute_result"
    }
   ],
   "source": [
    "log_model.best_params_"
   ]
  },
  {
   "cell_type": "markdown",
   "metadata": {},
   "source": [
    "### KNN"
   ]
  },
  {
   "cell_type": "code",
   "execution_count": 1055,
   "metadata": {},
   "outputs": [
    {
     "name": "stdout",
     "output_type": "stream",
     "text": [
      "30\n"
     ]
    }
   ],
   "source": [
    "test_accuracy = []\n",
    "train_accuracy = []\n",
    "Gap= []\n",
    "for d in range(1, 31):\n",
    "    model = KNeighborsClassifier(n_neighbors=d,metric='manhattan')\n",
    "    model.fit(X_train_res, y_train_res)\n",
    "\n",
    "    y_pred_train = model.predict(X_train_res)\n",
    "    y_pred_test = model.predict(X_test)\n",
    "    \n",
    "   \n",
    "    train_accuracy.append(accuracy_score(y_train_res, y_pred_train))\n",
    "    test_accuracy.append(accuracy_score(y_test, y_pred_test))\n",
    "    Gap.append(accuracy_score(y_train_res, y_pred_train) - accuracy_score(y_test, y_pred_test) )\n",
    "    \n",
    "best_min = min(Gap)\n",
    "best_k = Gap.index(best_min)+1\n",
    "print(best_k)"
   ]
  },
  {
   "cell_type": "markdown",
   "metadata": {},
   "source": [
    "Bets k:28"
   ]
  },
  {
   "cell_type": "code",
   "execution_count": 1056,
   "metadata": {},
   "outputs": [
    {
     "name": "stdout",
     "output_type": "stream",
     "text": [
      "Train Accuracy (KNN): 0.83775447254781\n",
      "Test Accuracy (KNN): 0.8382638959975433\n",
      "\n",
      "Confusion Matrix (KNN):\n",
      " [[6535  894]\n",
      " [ 686 1654]]\n",
      "\n",
      "Classification Report (KNN):\n",
      "\n",
      "               precision    recall  f1-score   support\n",
      "\n",
      "           0       0.90      0.88      0.89      7429\n",
      "           1       0.65      0.71      0.68      2340\n",
      "\n",
      "    accuracy                           0.84      9769\n",
      "   macro avg       0.78      0.79      0.78      9769\n",
      "weighted avg       0.84      0.84      0.84      9769\n",
      "\n",
      "\n",
      "ROC-AUC Score (KNN): 0.7932491978191265\n"
     ]
    },
    {
     "data": {
      "text/plain": [
       "['knn_model.joblib']"
      ]
     },
     "execution_count": 1056,
     "metadata": {},
     "output_type": "execute_result"
    }
   ],
   "source": [
    "knn_model = KNeighborsClassifier(n_neighbors=30, metric='manhattan')\n",
    "\n",
    "\n",
    "knn_model.fit(X_train_res,y_train_res)\n",
    "\n",
    "y_pred_test=knn_model.predict(X_test)\n",
    "y_pred_train=knn_model.predict(X_train_res)\n",
    "\n",
    "\n",
    "print(\"Train Accuracy (KNN):\", accuracy_score(y_train_res, y_pred_train))\n",
    "print(\"Test Accuracy (KNN):\", accuracy_score(y_test, y_pred_test))\n",
    "\n",
    "\n",
    "confusion_KNN = confusion_matrix(y_test, y_pred_test )\n",
    "report_KNN = classification_report(y_test, y_pred_test)\n",
    "roc_score_KNN = roc_auc_score(y_test, y_pred_test)\n",
    "\n",
    "print(\"\\nConfusion Matrix (KNN):\\n\", confusion_KNN)\n",
    "\n",
    "print(\"\\nClassification Report (KNN):\\n\\n\", report_KNN)\n",
    "print(\"\\nROC-AUC Score (KNN):\", roc_score_KNN)\n",
    "\n",
    "dump(knn_model,\"knn_model.joblib\")"
   ]
  },
  {
   "cell_type": "markdown",
   "metadata": {},
   "source": [
    "### Decision Tree"
   ]
  },
  {
   "cell_type": "code",
   "execution_count": 1057,
   "metadata": {},
   "outputs": [
    {
     "name": "stdout",
     "output_type": "stream",
     "text": [
      "Train Accuracy (DT): 0.849437075879087\n",
      "Test Accuracy (DT): 0.8473743474255298\n",
      "\n",
      "Confusion Matrix (DT):\n",
      " [[6699  730]\n",
      " [ 761 1579]]\n",
      "\n",
      "Classification Report (DT):\n",
      "\n",
      "               precision    recall  f1-score   support\n",
      "\n",
      "           0       0.90      0.90      0.90      7429\n",
      "           1       0.68      0.67      0.68      2340\n",
      "\n",
      "    accuracy                           0.85      9769\n",
      "   macro avg       0.79      0.79      0.79      9769\n",
      "weighted avg       0.85      0.85      0.85      9769\n",
      "\n",
      "\n",
      "ROC-AUC Score (DT): 0.7882613815343659\n"
     ]
    },
    {
     "data": {
      "text/plain": [
       "['DT_model.joblib']"
      ]
     },
     "execution_count": 1057,
     "metadata": {},
     "output_type": "execute_result"
    }
   ],
   "source": [
    "param_grid = {\n",
    "    'max_depth': [None, 10, 20, 30,40],\n",
    "    'min_samples_split': [2,5,8,10,13,15,19],\n",
    "    'min_samples_leaf': [1,2,3,4,5,6,7,8],\n",
    "    'criterion': ['gini', 'entropy','log_loss']  # Criterion to measure the quality of a split\n",
    "}\n",
    "\n",
    "#DT_model = GridSearchCV(estimator=DecisionTreeClassifier(random_state=42), param_grid=param_grid, cv=5, scoring='accuracy', n_jobs=-1,verbose=1)\n",
    "#bestparam: criterion='entropy',max_depth=10,min_samples_split=12,min_samples_leaf=10)\n",
    "\n",
    "DT_model=DecisionTreeClassifier(criterion='entropy',max_depth=10,min_samples_split=12,min_samples_leaf=10)\n",
    "DT_model.fit(X_train_res,y_train_res)\n",
    "\n",
    "y_pred_test=DT_model.predict(X_test)\n",
    "y_pred_train=DT_model.predict(X_train_res)\n",
    "\n",
    "print(\"Train Accuracy (DT):\", accuracy_score(y_train_res, y_pred_train))\n",
    "print(\"Test Accuracy (DT):\", accuracy_score(y_test, y_pred_test))\n",
    "\n",
    "confusion_DT = confusion_matrix(y_test, y_pred_test )\n",
    "report_DT = classification_report(y_test, y_pred_test)\n",
    "roc_score_DT = roc_auc_score(y_test, y_pred_test)\n",
    "\n",
    "print(\"\\nConfusion Matrix (DT):\\n\", confusion_DT)\n",
    "print(\"\\nClassification Report (DT):\\n\\n\", report_DT)\n",
    "print(\"\\nROC-AUC Score (DT):\", roc_score_DT)\n",
    "dump(DT_model,'DT_model.joblib')"
   ]
  },
  {
   "cell_type": "code",
   "execution_count": 980,
   "metadata": {},
   "outputs": [
    {
     "data": {
      "text/plain": [
       "{'criterion': 'gini',\n",
       " 'max_depth': 10,\n",
       " 'min_samples_leaf': 2,\n",
       " 'min_samples_split': 19}"
      ]
     },
     "execution_count": 980,
     "metadata": {},
     "output_type": "execute_result"
    }
   ],
   "source": [
    "DT_model.best_params_"
   ]
  },
  {
   "cell_type": "markdown",
   "metadata": {},
   "source": [
    "### Support Vector Machine"
   ]
  },
  {
   "cell_type": "code",
   "execution_count": 982,
   "metadata": {},
   "outputs": [
    {
     "ename": "KeyboardInterrupt",
     "evalue": "",
     "output_type": "error",
     "traceback": [
      "\u001b[1;31m---------------------------------------------------------------------------\u001b[0m",
      "\u001b[1;31mKeyboardInterrupt\u001b[0m                         Traceback (most recent call last)",
      "Cell \u001b[1;32mIn[982], line 10\u001b[0m\n\u001b[0;32m      1\u001b[0m \u001b[38;5;124;03m'''param_grid = {\u001b[39;00m\n\u001b[0;32m      2\u001b[0m \u001b[38;5;124;03m    'kernel': ['linear', 'rbf', 'poly','sigmoid'],\u001b[39;00m\n\u001b[0;32m      3\u001b[0m \u001b[38;5;124;03m    'C': [0.1,1,10,100,1000],\u001b[39;00m\n\u001b[0;32m      4\u001b[0m \u001b[38;5;124;03m    'gamma': ['scale', 'auto']  \u001b[39;00m\n\u001b[0;32m      5\u001b[0m \u001b[38;5;124;03m}\u001b[39;00m\n\u001b[0;32m      6\u001b[0m \u001b[38;5;124;03mgrid_search = GridSearchCV(estimator=SVC(), param_grid=param_grid, cv=5, n_jobs=-1, scoring='accuracy', verbose = 1)'''\u001b[39;00m\n\u001b[0;32m      8\u001b[0m svm\u001b[38;5;241m=\u001b[39mSVC(kernel\u001b[38;5;241m=\u001b[39m\u001b[38;5;124m'\u001b[39m\u001b[38;5;124mrbf\u001b[39m\u001b[38;5;124m'\u001b[39m,C\u001b[38;5;241m=\u001b[39m\u001b[38;5;241m0.1\u001b[39m,gamma\u001b[38;5;241m=\u001b[39m\u001b[38;5;124m'\u001b[39m\u001b[38;5;124mscale\u001b[39m\u001b[38;5;124m'\u001b[39m)\n\u001b[1;32m---> 10\u001b[0m \u001b[43msvm\u001b[49m\u001b[38;5;241;43m.\u001b[39;49m\u001b[43mfit\u001b[49m\u001b[43m(\u001b[49m\u001b[43mX_train_res\u001b[49m\u001b[43m,\u001b[49m\u001b[43m \u001b[49m\u001b[43my_train_res\u001b[49m\u001b[43m)\u001b[49m\n\u001b[0;32m     11\u001b[0m y_pred_test\u001b[38;5;241m=\u001b[39msvm\u001b[38;5;241m.\u001b[39mpredict(X_test)\n\u001b[0;32m     12\u001b[0m y_pred_train\u001b[38;5;241m=\u001b[39msvm\u001b[38;5;241m.\u001b[39mpredict(X_train_res)\n",
      "File \u001b[1;32mc:\\Users\\karim\\AppData\\Local\\Programs\\Python\\Python39\\lib\\site-packages\\sklearn\\base.py:1473\u001b[0m, in \u001b[0;36m_fit_context.<locals>.decorator.<locals>.wrapper\u001b[1;34m(estimator, *args, **kwargs)\u001b[0m\n\u001b[0;32m   1466\u001b[0m     estimator\u001b[38;5;241m.\u001b[39m_validate_params()\n\u001b[0;32m   1468\u001b[0m \u001b[38;5;28;01mwith\u001b[39;00m config_context(\n\u001b[0;32m   1469\u001b[0m     skip_parameter_validation\u001b[38;5;241m=\u001b[39m(\n\u001b[0;32m   1470\u001b[0m         prefer_skip_nested_validation \u001b[38;5;129;01mor\u001b[39;00m global_skip_validation\n\u001b[0;32m   1471\u001b[0m     )\n\u001b[0;32m   1472\u001b[0m ):\n\u001b[1;32m-> 1473\u001b[0m     \u001b[38;5;28;01mreturn\u001b[39;00m fit_method(estimator, \u001b[38;5;241m*\u001b[39margs, \u001b[38;5;241m*\u001b[39m\u001b[38;5;241m*\u001b[39mkwargs)\n",
      "File \u001b[1;32mc:\\Users\\karim\\AppData\\Local\\Programs\\Python\\Python39\\lib\\site-packages\\sklearn\\svm\\_base.py:250\u001b[0m, in \u001b[0;36mBaseLibSVM.fit\u001b[1;34m(self, X, y, sample_weight)\u001b[0m\n\u001b[0;32m    247\u001b[0m     \u001b[38;5;28mprint\u001b[39m(\u001b[38;5;124m\"\u001b[39m\u001b[38;5;124m[LibSVM]\u001b[39m\u001b[38;5;124m\"\u001b[39m, end\u001b[38;5;241m=\u001b[39m\u001b[38;5;124m\"\u001b[39m\u001b[38;5;124m\"\u001b[39m)\n\u001b[0;32m    249\u001b[0m seed \u001b[38;5;241m=\u001b[39m rnd\u001b[38;5;241m.\u001b[39mrandint(np\u001b[38;5;241m.\u001b[39miinfo(\u001b[38;5;124m\"\u001b[39m\u001b[38;5;124mi\u001b[39m\u001b[38;5;124m\"\u001b[39m)\u001b[38;5;241m.\u001b[39mmax)\n\u001b[1;32m--> 250\u001b[0m \u001b[43mfit\u001b[49m\u001b[43m(\u001b[49m\u001b[43mX\u001b[49m\u001b[43m,\u001b[49m\u001b[43m \u001b[49m\u001b[43my\u001b[49m\u001b[43m,\u001b[49m\u001b[43m \u001b[49m\u001b[43msample_weight\u001b[49m\u001b[43m,\u001b[49m\u001b[43m \u001b[49m\u001b[43msolver_type\u001b[49m\u001b[43m,\u001b[49m\u001b[43m \u001b[49m\u001b[43mkernel\u001b[49m\u001b[43m,\u001b[49m\u001b[43m \u001b[49m\u001b[43mrandom_seed\u001b[49m\u001b[38;5;241;43m=\u001b[39;49m\u001b[43mseed\u001b[49m\u001b[43m)\u001b[49m\n\u001b[0;32m    251\u001b[0m \u001b[38;5;66;03m# see comment on the other call to np.iinfo in this file\u001b[39;00m\n\u001b[0;32m    253\u001b[0m \u001b[38;5;28mself\u001b[39m\u001b[38;5;241m.\u001b[39mshape_fit_ \u001b[38;5;241m=\u001b[39m X\u001b[38;5;241m.\u001b[39mshape \u001b[38;5;28;01mif\u001b[39;00m \u001b[38;5;28mhasattr\u001b[39m(X, \u001b[38;5;124m\"\u001b[39m\u001b[38;5;124mshape\u001b[39m\u001b[38;5;124m\"\u001b[39m) \u001b[38;5;28;01melse\u001b[39;00m (n_samples,)\n",
      "File \u001b[1;32mc:\\Users\\karim\\AppData\\Local\\Programs\\Python\\Python39\\lib\\site-packages\\sklearn\\svm\\_base.py:328\u001b[0m, in \u001b[0;36mBaseLibSVM._dense_fit\u001b[1;34m(self, X, y, sample_weight, solver_type, kernel, random_seed)\u001b[0m\n\u001b[0;32m    314\u001b[0m libsvm\u001b[38;5;241m.\u001b[39mset_verbosity_wrap(\u001b[38;5;28mself\u001b[39m\u001b[38;5;241m.\u001b[39mverbose)\n\u001b[0;32m    316\u001b[0m \u001b[38;5;66;03m# we don't pass **self.get_params() to allow subclasses to\u001b[39;00m\n\u001b[0;32m    317\u001b[0m \u001b[38;5;66;03m# add other parameters to __init__\u001b[39;00m\n\u001b[0;32m    318\u001b[0m (\n\u001b[0;32m    319\u001b[0m     \u001b[38;5;28mself\u001b[39m\u001b[38;5;241m.\u001b[39msupport_,\n\u001b[0;32m    320\u001b[0m     \u001b[38;5;28mself\u001b[39m\u001b[38;5;241m.\u001b[39msupport_vectors_,\n\u001b[0;32m    321\u001b[0m     \u001b[38;5;28mself\u001b[39m\u001b[38;5;241m.\u001b[39m_n_support,\n\u001b[0;32m    322\u001b[0m     \u001b[38;5;28mself\u001b[39m\u001b[38;5;241m.\u001b[39mdual_coef_,\n\u001b[0;32m    323\u001b[0m     \u001b[38;5;28mself\u001b[39m\u001b[38;5;241m.\u001b[39mintercept_,\n\u001b[0;32m    324\u001b[0m     \u001b[38;5;28mself\u001b[39m\u001b[38;5;241m.\u001b[39m_probA,\n\u001b[0;32m    325\u001b[0m     \u001b[38;5;28mself\u001b[39m\u001b[38;5;241m.\u001b[39m_probB,\n\u001b[0;32m    326\u001b[0m     \u001b[38;5;28mself\u001b[39m\u001b[38;5;241m.\u001b[39mfit_status_,\n\u001b[0;32m    327\u001b[0m     \u001b[38;5;28mself\u001b[39m\u001b[38;5;241m.\u001b[39m_num_iter,\n\u001b[1;32m--> 328\u001b[0m ) \u001b[38;5;241m=\u001b[39m \u001b[43mlibsvm\u001b[49m\u001b[38;5;241;43m.\u001b[39;49m\u001b[43mfit\u001b[49m\u001b[43m(\u001b[49m\n\u001b[0;32m    329\u001b[0m \u001b[43m    \u001b[49m\u001b[43mX\u001b[49m\u001b[43m,\u001b[49m\n\u001b[0;32m    330\u001b[0m \u001b[43m    \u001b[49m\u001b[43my\u001b[49m\u001b[43m,\u001b[49m\n\u001b[0;32m    331\u001b[0m \u001b[43m    \u001b[49m\u001b[43msvm_type\u001b[49m\u001b[38;5;241;43m=\u001b[39;49m\u001b[43msolver_type\u001b[49m\u001b[43m,\u001b[49m\n\u001b[0;32m    332\u001b[0m \u001b[43m    \u001b[49m\u001b[43msample_weight\u001b[49m\u001b[38;5;241;43m=\u001b[39;49m\u001b[43msample_weight\u001b[49m\u001b[43m,\u001b[49m\n\u001b[0;32m    333\u001b[0m \u001b[43m    \u001b[49m\u001b[43mclass_weight\u001b[49m\u001b[38;5;241;43m=\u001b[39;49m\u001b[38;5;28;43mgetattr\u001b[39;49m\u001b[43m(\u001b[49m\u001b[38;5;28;43mself\u001b[39;49m\u001b[43m,\u001b[49m\u001b[43m \u001b[49m\u001b[38;5;124;43m\"\u001b[39;49m\u001b[38;5;124;43mclass_weight_\u001b[39;49m\u001b[38;5;124;43m\"\u001b[39;49m\u001b[43m,\u001b[49m\u001b[43m \u001b[49m\u001b[43mnp\u001b[49m\u001b[38;5;241;43m.\u001b[39;49m\u001b[43mempty\u001b[49m\u001b[43m(\u001b[49m\u001b[38;5;241;43m0\u001b[39;49m\u001b[43m)\u001b[49m\u001b[43m)\u001b[49m\u001b[43m,\u001b[49m\n\u001b[0;32m    334\u001b[0m \u001b[43m    \u001b[49m\u001b[43mkernel\u001b[49m\u001b[38;5;241;43m=\u001b[39;49m\u001b[43mkernel\u001b[49m\u001b[43m,\u001b[49m\n\u001b[0;32m    335\u001b[0m \u001b[43m    \u001b[49m\u001b[43mC\u001b[49m\u001b[38;5;241;43m=\u001b[39;49m\u001b[38;5;28;43mself\u001b[39;49m\u001b[38;5;241;43m.\u001b[39;49m\u001b[43mC\u001b[49m\u001b[43m,\u001b[49m\n\u001b[0;32m    336\u001b[0m \u001b[43m    \u001b[49m\u001b[43mnu\u001b[49m\u001b[38;5;241;43m=\u001b[39;49m\u001b[38;5;28;43mself\u001b[39;49m\u001b[38;5;241;43m.\u001b[39;49m\u001b[43mnu\u001b[49m\u001b[43m,\u001b[49m\n\u001b[0;32m    337\u001b[0m \u001b[43m    \u001b[49m\u001b[43mprobability\u001b[49m\u001b[38;5;241;43m=\u001b[39;49m\u001b[38;5;28;43mself\u001b[39;49m\u001b[38;5;241;43m.\u001b[39;49m\u001b[43mprobability\u001b[49m\u001b[43m,\u001b[49m\n\u001b[0;32m    338\u001b[0m \u001b[43m    \u001b[49m\u001b[43mdegree\u001b[49m\u001b[38;5;241;43m=\u001b[39;49m\u001b[38;5;28;43mself\u001b[39;49m\u001b[38;5;241;43m.\u001b[39;49m\u001b[43mdegree\u001b[49m\u001b[43m,\u001b[49m\n\u001b[0;32m    339\u001b[0m \u001b[43m    \u001b[49m\u001b[43mshrinking\u001b[49m\u001b[38;5;241;43m=\u001b[39;49m\u001b[38;5;28;43mself\u001b[39;49m\u001b[38;5;241;43m.\u001b[39;49m\u001b[43mshrinking\u001b[49m\u001b[43m,\u001b[49m\n\u001b[0;32m    340\u001b[0m \u001b[43m    \u001b[49m\u001b[43mtol\u001b[49m\u001b[38;5;241;43m=\u001b[39;49m\u001b[38;5;28;43mself\u001b[39;49m\u001b[38;5;241;43m.\u001b[39;49m\u001b[43mtol\u001b[49m\u001b[43m,\u001b[49m\n\u001b[0;32m    341\u001b[0m \u001b[43m    \u001b[49m\u001b[43mcache_size\u001b[49m\u001b[38;5;241;43m=\u001b[39;49m\u001b[38;5;28;43mself\u001b[39;49m\u001b[38;5;241;43m.\u001b[39;49m\u001b[43mcache_size\u001b[49m\u001b[43m,\u001b[49m\n\u001b[0;32m    342\u001b[0m \u001b[43m    \u001b[49m\u001b[43mcoef0\u001b[49m\u001b[38;5;241;43m=\u001b[39;49m\u001b[38;5;28;43mself\u001b[39;49m\u001b[38;5;241;43m.\u001b[39;49m\u001b[43mcoef0\u001b[49m\u001b[43m,\u001b[49m\n\u001b[0;32m    343\u001b[0m \u001b[43m    \u001b[49m\u001b[43mgamma\u001b[49m\u001b[38;5;241;43m=\u001b[39;49m\u001b[38;5;28;43mself\u001b[39;49m\u001b[38;5;241;43m.\u001b[39;49m\u001b[43m_gamma\u001b[49m\u001b[43m,\u001b[49m\n\u001b[0;32m    344\u001b[0m \u001b[43m    \u001b[49m\u001b[43mepsilon\u001b[49m\u001b[38;5;241;43m=\u001b[39;49m\u001b[38;5;28;43mself\u001b[39;49m\u001b[38;5;241;43m.\u001b[39;49m\u001b[43mepsilon\u001b[49m\u001b[43m,\u001b[49m\n\u001b[0;32m    345\u001b[0m \u001b[43m    \u001b[49m\u001b[43mmax_iter\u001b[49m\u001b[38;5;241;43m=\u001b[39;49m\u001b[38;5;28;43mself\u001b[39;49m\u001b[38;5;241;43m.\u001b[39;49m\u001b[43mmax_iter\u001b[49m\u001b[43m,\u001b[49m\n\u001b[0;32m    346\u001b[0m \u001b[43m    \u001b[49m\u001b[43mrandom_seed\u001b[49m\u001b[38;5;241;43m=\u001b[39;49m\u001b[43mrandom_seed\u001b[49m\u001b[43m,\u001b[49m\n\u001b[0;32m    347\u001b[0m \u001b[43m\u001b[49m\u001b[43m)\u001b[49m\n\u001b[0;32m    349\u001b[0m \u001b[38;5;28mself\u001b[39m\u001b[38;5;241m.\u001b[39m_warn_from_fit_status()\n",
      "\u001b[1;31mKeyboardInterrupt\u001b[0m: "
     ]
    }
   ],
   "source": [
    "'''param_grid = {\n",
    "    'kernel': ['linear', 'rbf', 'poly','sigmoid'],\n",
    "    'C': [0.1,1,10,100,1000],\n",
    "    'gamma': ['scale', 'auto']  \n",
    "}\n",
    "grid_search = GridSearchCV(estimator=SVC(), param_grid=param_grid, cv=5, n_jobs=-1, scoring='accuracy', verbose = 1)'''\n",
    "\n",
    "svm=SVC(kernel='rbf',C=0.1,gamma='scale')\n",
    "\n",
    "svm.fit(X_train_res, y_train_res)\n",
    "y_pred_test=svm.predict(X_test)\n",
    "y_pred_train=svm.predict(X_train_res)\n",
    "\n",
    "print(\"Train Accuracy (SVM):\", accuracy_score(y_train_res, y_pred_train))\n",
    "print(\"Test Accuracy (SVM):\", accuracy_score(y_test, y_pred_test))\n",
    "\n",
    "confusion_SVM = confusion_matrix(y_test, y_pred_test )\n",
    "report_SVM = classification_report(y_test, y_pred_test)\n",
    "roc_score_SVM = roc_auc_score(y_test, y_pred_test)\n",
    "\n",
    "print(\"\\nConfusion Matrix (SVM):\\n\", confusion_SVM)\n",
    "print(\"\\nClassification Report (SVM):\\n\\n\", report_SVM)\n",
    "print(\"\\nROC-AUC Score (SVM):\", roc_score_SVM)\n",
    "\n",
    "dump(svm,'SVM.joblib')"
   ]
  },
  {
   "cell_type": "code",
   "execution_count": null,
   "metadata": {},
   "outputs": [],
   "source": [
    "svm.best_params_"
   ]
  },
  {
   "cell_type": "markdown",
   "metadata": {},
   "source": [
    "### Ada Boost"
   ]
  },
  {
   "cell_type": "code",
   "execution_count": 499,
   "metadata": {},
   "outputs": [
    {
     "name": "stdout",
     "output_type": "stream",
     "text": [
      "Train Accuracy (AdaBoost): 0.8580737199259716\n",
      "Test Accuracy (AdaBoost): 0.8629337700890573\n",
      "\n",
      "Confusion Matrix (AdaBoost):\n",
      " [[6826  603]\n",
      " [ 736 1604]]\n",
      "\n",
      "Classification Report (AdaBoost):\n",
      "               precision    recall  f1-score   support\n",
      "\n",
      "           0       0.90      0.92      0.91      7429\n",
      "           1       0.73      0.69      0.71      2340\n",
      "\n",
      "    accuracy                           0.86      9769\n",
      "   macro avg       0.81      0.80      0.81      9769\n",
      "weighted avg       0.86      0.86      0.86      9769\n",
      "\n",
      "\n",
      "ROC-AUC Score (AdaBoost): 0.8021508456694887\n"
     ]
    },
    {
     "data": {
      "text/plain": [
       "['adaboost_model.joblib']"
      ]
     },
     "execution_count": 499,
     "metadata": {},
     "output_type": "execute_result"
    }
   ],
   "source": [
    "\"\"\"param_grid_adaboost = {\n",
    "    'n_estimators': list(range(100,200)),  \n",
    "    'learning_rate': [0.01, 0.1, 0.5, 1.0]\n",
    "}\n",
    "adaboost_model = GridSearchCV(estimator=AdaBoostClassifier(),param_grid=param_grid_adaboost,cv=5,scoring='accuracy',n_jobs=-1)\"\"\"\n",
    "\n",
    "adaboost_model=AdaBoostClassifier(learning_rate=1,n_estimators=150)\n",
    "adaboost_model.fit(X_train_res, y_train_res)\n",
    "\n",
    "y_pred_test_adaboost = adaboost_model.predict(X_test)\n",
    "y_pred_train_adaboost = adaboost_model.predict(X_train_res)\n",
    "\n",
    "print(\"Train Accuracy (AdaBoost):\", accuracy_score(y_train_res, y_pred_train_adaboost))\n",
    "print(\"Test Accuracy (AdaBoost):\", accuracy_score(y_test, y_pred_test_adaboost))\n",
    "\n",
    "confusion_ada = confusion_matrix(y_test, y_pred_test_adaboost)\n",
    "report_ada = classification_report(y_test, y_pred_test_adaboost)\n",
    "roc_score_ada = roc_auc_score(y_test, y_pred_test_adaboost)\n",
    "\n",
    "print(\"\\nConfusion Matrix (AdaBoost):\\n\", confusion_ada)\n",
    "print(\"\\nClassification Report (AdaBoost):\\n\", report_ada)\n",
    "print(\"\\nROC-AUC Score (AdaBoost):\", roc_score_ada)\n",
    "dump(adaboost_model,'adaboost_model.joblib')"
   ]
  },
  {
   "cell_type": "code",
   "execution_count": 669,
   "metadata": {},
   "outputs": [
    {
     "ename": "AttributeError",
     "evalue": "'AdaBoostClassifier' object has no attribute 'best_params_'",
     "output_type": "error",
     "traceback": [
      "\u001b[1;31m---------------------------------------------------------------------------\u001b[0m",
      "\u001b[1;31mAttributeError\u001b[0m                            Traceback (most recent call last)",
      "Cell \u001b[1;32mIn[669], line 1\u001b[0m\n\u001b[1;32m----> 1\u001b[0m \u001b[43madaboost_model\u001b[49m\u001b[38;5;241;43m.\u001b[39;49m\u001b[43mbest_params_\u001b[49m\n",
      "\u001b[1;31mAttributeError\u001b[0m: 'AdaBoostClassifier' object has no attribute 'best_params_'"
     ]
    }
   ],
   "source": [
    "adaboost_model.best_params_"
   ]
  },
  {
   "cell_type": "markdown",
   "metadata": {},
   "source": [
    "## GUI"
   ]
  },
  {
   "cell_type": "code",
   "execution_count": 834,
   "metadata": {},
   "outputs": [],
   "source": [
    "df_input_encoded=0"
   ]
  },
  {
   "cell_type": "code",
   "execution_count": 907,
   "metadata": {},
   "outputs": [],
   "source": [
    "def model_load(model_name):\n",
    "    model = load(model_name+'.joblib')\n",
    "    y_pred_test = model.predict(X_test)\n",
    "    \n",
    "    confusion = confusion_matrix(y_test, y_pred_test)\n",
    "    report = classification_report(y_test, y_pred_test)\n",
    "    ROCscore = roc_auc_score(y_test, y_pred_test)\n",
    "    \n",
    "    return confusion, report, ROCscore\n",
    "def ageGrouping(column):\n",
    "    if 17 <= column <= 30:\n",
    "        return \"Youth\"\n",
    "    elif column <= 50:\n",
    "        return \"Middle-aged\"\n",
    "    else:\n",
    "        return \"Senior\" \n",
    "\n",
    "def prepare_input_data(input_data):\n",
    "\n",
    "    # Convert input to dataframe\n",
    "    df_input = pd.DataFrame([input_data])\n",
    "\n",
    "\n",
    "    # Mapping dictionaries\n",
    "    workclass_mapping = {\n",
    "    'Private': 'Private',\n",
    "    'Self-emp-not-inc': 'Self-emp-not-inc',\n",
    "    'Local-gov': 'Local-gov',\n",
    "    'Unemployed': 'Unemployed', \n",
    "    'State-gov': 'State-gov',\n",
    "    'Self-emp-inc': 'Self-emp-inc',  \n",
    "    'Federal-gov': 'Federal-gov',\n",
    "    'Without-pay': 'Not-paid',\n",
    "    'Never-worked': 'Not-paid' \n",
    "    }\n",
    "    df_input['education'] = df_input['education'].apply(lambda x: 'School' if x == '11th' or x == '7th-8th' or x == '10th'  or x == '5th-6th' or\n",
    "                                         x == '9th' or x == '12th' or x == '1st-4th' or x == 'Preschool' else x)\n",
    "    df_input['education'] = df_input['education'].apply(lambda x: 'Associate' if x == 'Assoc-acdm' or x == 'Assoc-voc' else x)\n",
    "    df_input['education'] = df_input['education'].apply(lambda x: 'Post-masters' if x == 'Doctorate' or x == 'Prof-school' else x)\n",
    "\n",
    "    education_map = {'School':1,\n",
    "        'HS-grad':2,\n",
    "        'Some-college':3,\n",
    "        'Associate':4,\n",
    "        'Bachelors':5,\n",
    "        'Masters':6,\n",
    "        'Post-masters':7}\n",
    "    \n",
    "    occupation_mapping = {'Prof-specialty' : 'Prof-specialty',  \n",
    "        'Craft-repair' : 'Craft-repair',    \n",
    "        'Exec-managerial' : 'Exec-managerial',\n",
    "        'Adm-clerical' : 'Adm-clerical',   \n",
    "        'Sales' : 'Sales',          \n",
    "        'Other-service' : 'Other-service'  , \n",
    "        'Machine-op-inspct': 'Machine-op-inspct',   \n",
    "        'None' : 'None' ,               \n",
    "        'Transport-moving' : 'Transport-moving' ,   \n",
    "        'Handlers-cleaners' : 'Handlers-cleaners' ,\n",
    "        'Farming-fishing' : 'Other',    \n",
    "        'Tech-support' : 'Other',\n",
    "        'Protective-serv' : 'Other',\n",
    "        'Priv-house-serv' : 'Other',\n",
    "        ' Armed-Forces': 'Other'}\n",
    "    \n",
    "    \n",
    "    \n",
    "    \n",
    "    marital_status_mapping = {\n",
    "        'Married-civ-spouse': 'Married-spouse-present',\n",
    "        'Married-AF-spouse': 'Married-spouse-present',\n",
    "        'Married-spouse-absent': 'Absent',\n",
    "        'Widowed': 'Absent',\n",
    "        'Divorced': 'Divorced',\n",
    "        'Separated': 'No-partner',\n",
    "        'Never-married': 'No-partner',\n",
    "    }\n",
    "    \n",
    "    race_mapping = {\n",
    "        'Other': 'Other',\n",
    "        'Amer-Indian-Eskimo': 'Black',\n",
    "        'Black': 'Black',\n",
    "        'White': 'White',\n",
    "        'Asian-Pac-Islander': 'White',\n",
    "    }\n",
    "\n",
    "    # Apply mappings\n",
    "    df_input['native.country'] = df_input['native.country'].apply(lambda x: 'Other' if x != 'United-States'else x)\n",
    "    df_input['occupation'] = df_input['occupation'].map(occupation_mapping)  \n",
    "    df_input['marital.status'] = df_input['marital.status'].map(marital_status_mapping)\n",
    "    df_input['race'] = df_input['race'].map(race_mapping)\n",
    "    df_input['education'] = df_input['education'].map(education_map)\n",
    "    df_input['workclass'] = df_input['workclass'].map(workclass_mapping)\n",
    "\n",
    "    \n",
    "    # Load saved encoders\n",
    "    ordinal_encoder = load('ordinal_encoder.joblib')\n",
    "    feature_order = load('feature_order.joblib')\n",
    "\n",
    "    df_input['ageGroup'] = df_input['age'].apply(ageGrouping)\n",
    "    df_input['net'] = df_input['capital.gain'] - df_input['capital.loss']\n",
    "    df_input[\"work_hours_per_age\"] = df_input[\"hours.per.week\"] / df_input[\"age\"]\n",
    "    df_input[\"hours_category\"] = pd.cut(df_input[\"hours.per.week\"], bins=[0, 30, 40, 60, 100], labels=[\"Part-time\", \"Full-time\", \"Overtime\", \"Extreme\"])\n",
    "    #df_input[\"family_structure\"] = df_input[\"marital.status\"] + \"-\" + df_input[\"relationship\"]\n",
    "    df_input[\"capital_activity\"] = np.where((df_input[\"capital.gain\"] > 0) | (df_input[\"capital.loss\"] > 0), 1, 0)\n",
    "\n",
    "    # Apply ordinal encoding\n",
    "    df_input[[ 'ageGroup','hours_category']] = ordinal_encoder.transform(df_input[[ 'ageGroup','hours_category']]).astype(int)\n",
    "    \n",
    "    # Apply one-hot encoding using pd.get_dummies\n",
    "    OneHotColumns = ['workclass', 'marital.status', 'occupation', 'relationship', 'race', 'sex', 'native.country']\n",
    "    df_input_encoded = pd.get_dummies(df_input, columns=OneHotColumns, drop_first=True).astype(int)\n",
    "\n",
    "    feature_order = load('feature_order.joblib')\n",
    "    # Ensure columns are in the same order as training data\n",
    "    df_input_encoded = df_input_encoded.reindex(columns=feature_order, fill_value=0)\n",
    "    \n",
    "    return df_input_encoded,feature_order"
   ]
  },
  {
   "cell_type": "code",
   "execution_count": 908,
   "metadata": {},
   "outputs": [
    {
     "name": "stdout",
     "output_type": "stream",
     "text": [
      "Dataset loaded successfully!\n"
     ]
    },
    {
     "ename": "KeyboardInterrupt",
     "evalue": "",
     "output_type": "error",
     "traceback": [
      "\u001b[1;31m---------------------------------------------------------------------------\u001b[0m",
      "\u001b[1;31mKeyboardInterrupt\u001b[0m                         Traceback (most recent call last)",
      "Cell \u001b[1;32mIn[908], line 220\u001b[0m\n\u001b[0;32m    217\u001b[0m                     sg\u001b[38;5;241m.\u001b[39mpopup_error(\u001b[38;5;124mf\u001b[39m\u001b[38;5;124m\"\u001b[39m\u001b[38;5;124mError during prediction: \u001b[39m\u001b[38;5;132;01m{\u001b[39;00me\u001b[38;5;132;01m}\u001b[39;00m\u001b[38;5;124m\"\u001b[39m)\n\u001b[0;32m    219\u001b[0m \u001b[38;5;28;01mif\u001b[39;00m \u001b[38;5;18m__name__\u001b[39m \u001b[38;5;241m==\u001b[39m \u001b[38;5;124m\"\u001b[39m\u001b[38;5;124m__main__\u001b[39m\u001b[38;5;124m\"\u001b[39m:\n\u001b[1;32m--> 220\u001b[0m   \u001b[43mmain\u001b[49m\u001b[43m(\u001b[49m\u001b[43m)\u001b[49m\n",
      "Cell \u001b[1;32mIn[908], line 94\u001b[0m, in \u001b[0;36mmain\u001b[1;34m()\u001b[0m\n\u001b[0;32m     91\u001b[0m window3 \u001b[38;5;241m=\u001b[39m \u001b[38;5;28;01mNone\u001b[39;00m\n\u001b[0;32m     93\u001b[0m \u001b[38;5;28;01mwhile\u001b[39;00m \u001b[38;5;28;01mTrue\u001b[39;00m:\n\u001b[1;32m---> 94\u001b[0m     window, event, values \u001b[38;5;241m=\u001b[39m \u001b[43msg\u001b[49m\u001b[38;5;241;43m.\u001b[39;49m\u001b[43mread_all_windows\u001b[49m\u001b[43m(\u001b[49m\u001b[43m)\u001b[49m\n\u001b[0;32m     96\u001b[0m     \u001b[38;5;28;01mif\u001b[39;00m event \u001b[38;5;241m==\u001b[39m sg\u001b[38;5;241m.\u001b[39mWINDOW_CLOSED \u001b[38;5;129;01mor\u001b[39;00m event \u001b[38;5;241m==\u001b[39m \u001b[38;5;124m\"\u001b[39m\u001b[38;5;124mExit\u001b[39m\u001b[38;5;124m\"\u001b[39m:\n\u001b[0;32m     97\u001b[0m         \u001b[38;5;28;01mif\u001b[39;00m window:\n",
      "File \u001b[1;32mc:\\Users\\karim\\AppData\\Local\\Programs\\Python\\Python39\\lib\\site-packages\\PySimpleGUI\\PySimpleGUI.py:12703\u001b[0m, in \u001b[0;36mread_all_windows\u001b[1;34m(timeout, timeout_key)\u001b[0m\n\u001b[0;32m  12700\u001b[0m     Window\u001b[38;5;241m.\u001b[39m_TKAfterID \u001b[38;5;241m=\u001b[39m Window\u001b[38;5;241m.\u001b[39mhidden_master_root\u001b[38;5;241m.\u001b[39mafter(timeout, _timeout_alarm_callback_hidden)\n\u001b[0;32m  12702\u001b[0m \u001b[38;5;66;03m# ------------ Call Mainloop ------------\u001b[39;00m\n\u001b[1;32m> 12703\u001b[0m \u001b[43mWindow\u001b[49m\u001b[38;5;241;43m.\u001b[39;49m\u001b[43m_root_running_mainloop\u001b[49m\u001b[38;5;241;43m.\u001b[39;49m\u001b[43mmainloop\u001b[49m\u001b[43m(\u001b[49m\u001b[43m)\u001b[49m\n\u001b[0;32m  12705\u001b[0m \u001b[38;5;28;01mtry\u001b[39;00m:\n\u001b[0;32m  12706\u001b[0m     Window\u001b[38;5;241m.\u001b[39mhidden_master_root\u001b[38;5;241m.\u001b[39mafter_cancel(Window\u001b[38;5;241m.\u001b[39m_TKAfterID)\n",
      "File \u001b[1;32mc:\\Users\\karim\\AppData\\Local\\Programs\\Python\\Python39\\lib\\tkinter\\__init__.py:1429\u001b[0m, in \u001b[0;36mMisc.mainloop\u001b[1;34m(self, n)\u001b[0m\n\u001b[0;32m   1427\u001b[0m \u001b[38;5;28;01mdef\u001b[39;00m \u001b[38;5;21mmainloop\u001b[39m(\u001b[38;5;28mself\u001b[39m, n\u001b[38;5;241m=\u001b[39m\u001b[38;5;241m0\u001b[39m):\n\u001b[0;32m   1428\u001b[0m \u001b[38;5;250m    \u001b[39m\u001b[38;5;124;03m\"\"\"Call the mainloop of Tk.\"\"\"\u001b[39;00m\n\u001b[1;32m-> 1429\u001b[0m     \u001b[38;5;28;43mself\u001b[39;49m\u001b[38;5;241;43m.\u001b[39;49m\u001b[43mtk\u001b[49m\u001b[38;5;241;43m.\u001b[39;49m\u001b[43mmainloop\u001b[49m\u001b[43m(\u001b[49m\u001b[43mn\u001b[49m\u001b[43m)\u001b[49m\n",
      "\u001b[1;31mKeyboardInterrupt\u001b[0m: "
     ]
    }
   ],
   "source": [
    "FILE_PATH = r\"my_dataframe.csv\"\n",
    "# 1. Dataset Loading\n",
    "def load_dataset(file_path):\n",
    "    global df, X_train, y_train, feature_columns\n",
    "    try:\n",
    "        df = pd.read_csv(file_path)\n",
    "        print(\"Dataset loaded successfully!\")\n",
    "        return True\n",
    "    except Exception as e:\n",
    "        print(f\"Error loading dataset: {e}\")\n",
    "        return False\n",
    "\n",
    "# 2. Model Selection\n",
    "def load_model(model_name):\n",
    "    if model_name == \"Logistic Regression\":\n",
    "        model = load('logistic_model.joblib')\n",
    "    elif model_name == \"Decision Tree\":\n",
    "        model = load('DT_model.joblib')\n",
    "    elif model_name == \"KNN\":\n",
    "        model = load('knn_model.joblib')\n",
    "    elif model_name == \"SVM\":\n",
    "        model = load('SVM.joblib')\n",
    "    elif model_name == \"Ada Boost\":\n",
    "        model = load('adaboost_model.joblib')\n",
    "    return model\n",
    "\n",
    "# 3. Prediction with Model\n",
    "def predict_with_loaded_model(model_name, user_input_data):\n",
    "    try:\n",
    "        # Load the trained model\n",
    "        model = load_model(model_name)  \n",
    "        # Align user input data with training data features\n",
    "        user_input_data=user_input_data.to_numpy()\n",
    "        user_input_data=scaler.transform(user_input_data)\n",
    "        # Make prediction\n",
    "        prediction = model.predict(user_input_data)\n",
    "\n",
    "        return prediction\n",
    "    except Exception as e:\n",
    "\n",
    "        print(f\"Error during prediction: {e}\")\n",
    "        return None\n",
    "\n",
    "# Dataset Loading Window\n",
    "def dataset_loader_window():\n",
    "    layout = [\n",
    "        [sg.Text(\"Load Your Dataset\", font=(\"Helvetica\", 14))],\n",
    "        [sg.Input(default_text=r\"my_dataframe.csv\", key=\"-FILE-\", size=(70, 1))],\n",
    "        [sg.FileBrowse(file_types=((\"CSV Files\", \"*.csv\"),))],\n",
    "        [sg.Button(\"Load Dataset\"), sg.Button(\"Exit\")]\n",
    "    ]\n",
    "    return sg.Window(\"Load Dataset\", layout, finalize=True, resizable=True)\n",
    "\n",
    "# Model Selection Window\n",
    "def model_selection_window():\n",
    "    layout = [\n",
    "        [sg.Text(\"Select a Model\", font=(\"Helvetica\", 14))],\n",
    "        [sg.Combo([\"Logistic Regression\", \"KNN\", \"Decision Tree\", \"SVM\",\"Ada Boost\"], key=\"-MODEL-\", size=(20, 1))],\n",
    "        [sg.Button(\"Train Model\"), sg.Button(\"Predict\"), sg.Button(\"Back\")],\n",
    "        [sg.Text(\"Results:\", font=(\"Helvetica\", 12))],\n",
    "        [sg.Multiline(size=(70, 20), key=\"-RESULTS-\", disabled=True)]  # Placeholder for displaying results\n",
    "    ]\n",
    "    return sg.Window(\"Model Selection\", layout, finalize=True)\n",
    "\n",
    "# Prediction Input Window\n",
    "def prediction_input_window():\n",
    "    layout = [\n",
    "        [sg.Text(\"Enter feature values for prediction:\")],\n",
    "        [sg.Text(\"Age:\"), sg.InputText(key=\"age\")],\n",
    "        [sg.Text(\"Workclass:\"), sg.InputText(key=\"workclass\")],\n",
    "        [sg.Text(\"Fnlwgt:\"), sg.InputText(key=\"fnlwgt\")],\n",
    "        [sg.Text(\"Education:\"), sg.InputText(key=\"education\")],\n",
    "        [sg.Text(\"Education Number:\"), sg.InputText(key=\"education.num\")],\n",
    "        [sg.Text(\"Marital Status:\"), sg.InputText(key=\"marital.status\")],\n",
    "        [sg.Text(\"Occupation:\"), sg.InputText(key=\"occupation\")],\n",
    "        [sg.Text(\"Relationship:\"), sg.InputText(key=\"relationship\")],\n",
    "        [sg.Text(\"Race:\"), sg.InputText(key=\"race\")],\n",
    "        [sg.Text(\"Sex:\"), sg.InputText(key=\"sex\")],\n",
    "        [sg.Text(\"Capital Gain:\"), sg.InputText(key=\"capital.gain\")],\n",
    "        [sg.Text(\"Capital Loss:\"), sg.InputText(key=\"capital.loss\")],\n",
    "        [sg.Text(\"Hours per Week:\"), sg.InputText(key=\"hours.per.week\")],\n",
    "        [sg.Text(\"Native Country:\"), sg.InputText(key=\"native.country\")],\n",
    "        [sg.Button(\"Predict\"), sg.Button(\"Back\")]\n",
    "    ]\n",
    "    return sg.Window(\"Prediction Input\", layout, finalize=True)\n",
    "\n",
    "# Main Event Loop\n",
    "def main():\n",
    "    window1 = dataset_loader_window()\n",
    "    window2 = None\n",
    "    window3 = None\n",
    "\n",
    "    while True:\n",
    "        window, event, values = sg.read_all_windows()\n",
    "\n",
    "        if event == sg.WINDOW_CLOSED or event == \"Exit\":\n",
    "            if window:\n",
    "                window.close()\n",
    "            if window == window1:\n",
    "                window1 = None\n",
    "                break\n",
    "            elif window == window2:\n",
    "                window2 = None\n",
    "            elif window == window3:\n",
    "                window3 = None\n",
    "\n",
    "        # Dataset Loader logic\n",
    "        if window == window1:\n",
    "            if event == \"Load Dataset\":\n",
    "                file_path = r\"my_dataframe.csv\"\n",
    "                if load_dataset(file_path):\n",
    "                    sg.popup(\"Dataset loaded successfully!\")\n",
    "                    window1.close()\n",
    "                    window1 = None\n",
    "                    window2 = model_selection_window()  # Show model selection window\n",
    "                else:\n",
    "                    sg.popup_error(\"Failed to load dataset!\")\n",
    "\n",
    "        # Model Selection logic\n",
    "        if window == window2:\n",
    "            if event == \"Train Model\":\n",
    "                selected_model = values[\"-MODEL-\"]\n",
    "                if not selected_model:\n",
    "                    sg.popup_error(\"Please select a model!\")\n",
    "                else:\n",
    "                    if selected_model == \"Logistic Regression\":\n",
    "                        confusion, class_report, accuracy = model_load('logistic_model')\n",
    "                        results_text = (\n",
    "                            f\"Confusion Matrix:\\n{confusion}\\n\\n\"\n",
    "                            f\"Classification Report:\\n{class_report}\\n\\n\"\n",
    "                            f\"ROC Score: {accuracy}\\n\"\n",
    "                        )\n",
    "                    elif selected_model == \"KNN\":\n",
    "                        confusionknn, class_reportknn, ROCscoreknn = model_load('knn_model')\n",
    "                        results_text = (\n",
    "                            f\"Confusion Matrix:\\n{confusionknn}\\n\\n\"\n",
    "                            f\"Classification Report:\\n{class_reportknn}\\n\\n\"\n",
    "                            f\"ROC Score: {ROCscoreknn}\\n\"\n",
    "                        )\n",
    "                    elif selected_model == \"Decision Tree\":\n",
    "                        confusiontree, class_reporttree, ROCscoretree = model_load('DT_model')\n",
    "                        results_text = (\n",
    "                            f\"Confusion Matrix:\\n{confusiontree}\\n\\n\"\n",
    "                            f\"Classification Report:\\n{class_reporttree}\\n\\n\"\n",
    "                            f\"ROC Score: {ROCscoretree}\\n\"\n",
    "                        )\n",
    "                    elif selected_model == \"SVM\":\n",
    "                        confusionSVM, class_reportSVM, ROCscoreSVM = model_load('SVM')\n",
    "                        results_text = (\n",
    "                            f\"Confusion Matrix:\\n{confusionSVM}\\n\\n\"\n",
    "                            f\"Classification Report:\\n{class_reportSVM}\\n\\n\"\n",
    "                            f\"ROC Score: {ROCscoreSVM}\\n\"\n",
    "                        )\n",
    "                    elif selected_model == \"Ada Boost\":\n",
    "                        confusionada, class_reportada, ROCscoreada = model_load('adaboost_model')\n",
    "                        results_text = (\n",
    "                            f\"Confusion Matrix:\\n{confusionada}\\n\\n\"\n",
    "                            f\"Classification Report:\\n{class_reportada}\\n\\n\"\n",
    "                            f\"ROC Score: {ROCscoreada}\\n\"\n",
    "                        )\n",
    "\n",
    "                    window2[\"-RESULTS-\"].update(results_text)  # Display the results\n",
    "\n",
    "            elif event == \"Back\":\n",
    "                window2.close()\n",
    "                window2 = None\n",
    "                window1 = dataset_loader_window()\n",
    "\n",
    "            elif event == \"Predict\":\n",
    "                selected_model = values.get(\"-MODEL-\")\n",
    "                if not selected_model:\n",
    "                    sg.popup_error(\"Please select a model first!\")\n",
    "                else:\n",
    "                    window2.hide()\n",
    "                    window3 = prediction_input_window()\n",
    "\n",
    "        # Prediction Input logic\n",
    "        if window == window3:\n",
    "            if event == \"Back\":\n",
    "                window3.close()\n",
    "                window3 = None\n",
    "                window2.un_hide()\n",
    "\n",
    "            elif event == \"Predict\":\n",
    "                try:\n",
    "                    # Collect user input data from the form\n",
    "                    user_input_data = {\n",
    "                        'age': float(values[\"age\"]),\n",
    "                        'workclass': values[\"workclass\"],\n",
    "                        'fnlwgt': float(values[\"fnlwgt\"]),\n",
    "                        'education': values[\"education\"],\n",
    "                        'education.num': int(values[\"education.num\"]),\n",
    "                        'marital.status': values[\"marital.status\"],\n",
    "                        'occupation': values[\"occupation\"],\n",
    "                        'relationship': values[\"relationship\"],\n",
    "                        'race': values[\"race\"],\n",
    "                        'sex': values[\"sex\"],\n",
    "                        'capital.gain': float(values[\"capital.gain\"]),\n",
    "                        'capital.loss': float(values[\"capital.loss\"]),\n",
    "                        'hours.per.week': float(values[\"hours.per.week\"]),\n",
    "                        'native.country': values[\"native.country\"]\n",
    "                    }\n",
    "\n",
    "                    input_df,feature_order = prepare_input_data(user_input_data)\n",
    "                    print(input_df.columns)   \n",
    "\n",
    "                    prediction = predict_with_loaded_model(selected_model, input_df)\n",
    "                    if prediction is not None:\n",
    "                        if prediction[0]==1:\n",
    "                            sg.popup(f\"Predicted Income: >50K\")\n",
    "                        else:\n",
    "                            sg.popup(f\"Predicted Income: <=50K\")\n",
    "                    else:\n",
    "                        sg.popup_error(\"Prediction failed. Please check your inputs and try again.\")\n",
    "\n",
    "                except Exception as e:\n",
    "                    sg.popup_error(f\"Error during prediction: {e}\")\n",
    "\n",
    "if __name__ == \"__main__\":\n",
    "  main()"
   ]
  },
  {
   "cell_type": "code",
   "execution_count": null,
   "metadata": {},
   "outputs": [],
   "source": []
  }
 ],
 "metadata": {
  "kernelspec": {
   "display_name": "Python 3",
   "language": "python",
   "name": "python3"
  },
  "language_info": {
   "codemirror_mode": {
    "name": "ipython",
    "version": 3
   },
   "file_extension": ".py",
   "mimetype": "text/x-python",
   "name": "python",
   "nbconvert_exporter": "python",
   "pygments_lexer": "ipython3",
   "version": "3.9.13"
  }
 },
 "nbformat": 4,
 "nbformat_minor": 2
}
